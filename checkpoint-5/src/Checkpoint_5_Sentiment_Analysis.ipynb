{
  "nbformat": 4,
  "nbformat_minor": 0,
  "metadata": {
    "colab": {
      "name": " Checkpoint_5_Sentiment_Analysis.ipynb",
      "provenance": [],
      "collapsed_sections": []
    },
    "kernelspec": {
      "name": "python3",
      "display_name": "Python 3"
    },
    "language_info": {
      "name": "python"
    }
  },
  "cells": [
    {
      "cell_type": "markdown",
      "metadata": {
        "id": "Z-oQ0q4NeJF_"
      },
      "source": [
        "## Checkpoint-5: Natural Language Processing"
      ]
    },
    {
      "cell_type": "markdown",
      "metadata": {
        "id": "n_QIDrVJeO_2"
      },
      "source": [
        "We start by importing all the libraries we need"
      ]
    },
    {
      "cell_type": "code",
      "metadata": {
        "colab": {
          "base_uri": "https://localhost:8080/"
        },
        "id": "Wrgk7Q_8JQaY",
        "outputId": "25c8b1b0-00b6-4396-d534-144eb5d17cc6"
      },
      "source": [
        "import nltk\n",
        "from nltk.tokenize import sent_tokenize\n",
        "from nltk.tokenize import word_tokenize \n",
        "nltk.download('punkt')\n",
        "from nltk.sentiment.vader import SentimentIntensityAnalyzer\n",
        "import time, os\n",
        "\n",
        "import numpy as np # linear algebra\n",
        "import pandas as pd # data processing\n",
        "# pd.set_option('display.max_colwidth', -1) # display the entire contents of each cell\n",
        "\n",
        "import seaborn as sns # visualization\n",
        "import matplotlib.pyplot as plt\n",
        "%matplotlib inline\n",
        "import re\n",
        "import string\n",
        "# from sklearn.cluster import KMeans\n",
        "# from sklearn.feature_extraction.text import TfidfTransformer\n",
        "\n",
        "import warnings\n",
        "warnings.filterwarnings('ignore')"
      ],
      "execution_count": 1,
      "outputs": [
        {
          "output_type": "stream",
          "name": "stdout",
          "text": [
            "[nltk_data] Downloading package punkt to /root/nltk_data...\n",
            "[nltk_data]   Package punkt is already up-to-date!\n"
          ]
        },
        {
          "output_type": "stream",
          "name": "stderr",
          "text": [
            "/usr/local/lib/python3.7/dist-packages/nltk/twitter/__init__.py:20: UserWarning: The twython library has not been installed. Some functionality from the twitter package will not be available.\n",
            "  warnings.warn(\"The twython library has not been installed. \"\n"
          ]
        }
      ]
    },
    {
      "cell_type": "markdown",
      "metadata": {
        "id": "3m9o3bCJekCM"
      },
      "source": [
        "We are using VADER which comes with a Sentiment Intensity Analyzer for sentiment analysis, which is an NLTK module that provides sentiment scores based on words used."
      ]
    },
    {
      "cell_type": "code",
      "metadata": {
        "colab": {
          "base_uri": "https://localhost:8080/"
        },
        "id": "f0MF4rbDs6nI",
        "outputId": "de06bf0c-e173-4842-8427-a8e5bf0e66ba"
      },
      "source": [
        "nltk.download('vader_lexicon')"
      ],
      "execution_count": 2,
      "outputs": [
        {
          "output_type": "stream",
          "name": "stdout",
          "text": [
            "[nltk_data] Downloading package vader_lexicon to /root/nltk_data...\n",
            "[nltk_data]   Package vader_lexicon is already up-to-date!\n"
          ]
        },
        {
          "output_type": "execute_result",
          "data": {
            "text/plain": [
              "True"
            ]
          },
          "metadata": {},
          "execution_count": 2
        }
      ]
    },
    {
      "cell_type": "markdown",
      "metadata": {
        "id": "yBLGpHoighw0"
      },
      "source": [
        "Reading the data(obtained using the following SQL query on DataGrip):\n",
        "\n",
        "\n",
        "```\n",
        "SELECT data_officerallegation.officer_id,\n",
        "       data_allegation.summary,\n",
        "       data_allegation.incident_date::TIMESTAMP::DATE as incident_date,\n",
        "       data_officer.appointed_date,\n",
        "       data_allegation.incident_date::TIMESTAMP::DATE-data_officer.appointed_date as time_of_employment\n",
        "FROM data_allegation\n",
        "    left join data_officerallegation on data_officerallegation.allegation_id = data_allegation.crid\n",
        "    left join data_officer on data_officerallegation.officer_id = data_officer.id\n",
        "WHERE data_allegation.summary != ''\n",
        "  AND officer_id is not NULL\n",
        "  AND incident_date is not NULL AND data_officerallegation.officer_id = data_officer.id;\n",
        "```\n",
        "\n",
        "\n"
      ]
    },
    {
      "cell_type": "code",
      "metadata": {
        "id": "uHhltlI3J09v"
      },
      "source": [
        "df = pd.read_csv('NLP_csv.csv')\n",
        "df = pd.DataFrame(df)"
      ],
      "execution_count": 3,
      "outputs": []
    },
    {
      "cell_type": "code",
      "metadata": {
        "colab": {
          "base_uri": "https://localhost:8080/",
          "height": 424
        },
        "id": "fl1hDRpWKAA9",
        "outputId": "46876c20-a032-4c79-e07f-b6fbf49266ac"
      },
      "source": [
        "df"
      ],
      "execution_count": 4,
      "outputs": [
        {
          "output_type": "execute_result",
          "data": {
            "text/html": [
              "<div>\n",
              "<style scoped>\n",
              "    .dataframe tbody tr th:only-of-type {\n",
              "        vertical-align: middle;\n",
              "    }\n",
              "\n",
              "    .dataframe tbody tr th {\n",
              "        vertical-align: top;\n",
              "    }\n",
              "\n",
              "    .dataframe thead th {\n",
              "        text-align: right;\n",
              "    }\n",
              "</style>\n",
              "<table border=\"1\" class=\"dataframe\">\n",
              "  <thead>\n",
              "    <tr style=\"text-align: right;\">\n",
              "      <th></th>\n",
              "      <th>officer_id</th>\n",
              "      <th>summary</th>\n",
              "      <th>incident_date</th>\n",
              "      <th>appointed_date</th>\n",
              "      <th>time_of_employment</th>\n",
              "    </tr>\n",
              "  </thead>\n",
              "  <tbody>\n",
              "    <tr>\n",
              "      <th>0</th>\n",
              "      <td>16061</td>\n",
              "      <td>Four on?duty CPD officers ordered a crowd to d...</td>\n",
              "      <td>2014-08-25</td>\n",
              "      <td>2004-11-29</td>\n",
              "      <td>3556</td>\n",
              "    </tr>\n",
              "    <tr>\n",
              "      <th>1</th>\n",
              "      <td>25864</td>\n",
              "      <td>On 06 August 2009, a complaint was registered ...</td>\n",
              "      <td>2009-08-04</td>\n",
              "      <td>2000-12-18</td>\n",
              "      <td>3151</td>\n",
              "    </tr>\n",
              "    <tr>\n",
              "      <th>2</th>\n",
              "      <td>23361</td>\n",
              "      <td>In an incident involving an off-duty CPD offic...</td>\n",
              "      <td>2009-11-25</td>\n",
              "      <td>2001-08-27</td>\n",
              "      <td>3012</td>\n",
              "    </tr>\n",
              "    <tr>\n",
              "      <th>3</th>\n",
              "      <td>21210</td>\n",
              "      <td>On June 5, 2011, a complaint was registered wi...</td>\n",
              "      <td>2011-06-05</td>\n",
              "      <td>2007-07-30</td>\n",
              "      <td>1406</td>\n",
              "    </tr>\n",
              "    <tr>\n",
              "      <th>4</th>\n",
              "      <td>16338</td>\n",
              "      <td>On January 4, 2007, a complaint was registered...</td>\n",
              "      <td>2006-01-25</td>\n",
              "      <td>2003-04-28</td>\n",
              "      <td>1003</td>\n",
              "    </tr>\n",
              "    <tr>\n",
              "      <th>...</th>\n",
              "      <td>...</td>\n",
              "      <td>...</td>\n",
              "      <td>...</td>\n",
              "      <td>...</td>\n",
              "      <td>...</td>\n",
              "    </tr>\n",
              "    <tr>\n",
              "      <th>1922</th>\n",
              "      <td>10317</td>\n",
              "      <td>On December 23, 2006, a complaint was register...</td>\n",
              "      <td>2006-12-23</td>\n",
              "      <td>2005-01-03</td>\n",
              "      <td>719</td>\n",
              "    </tr>\n",
              "    <tr>\n",
              "      <th>1923</th>\n",
              "      <td>27962</td>\n",
              "      <td>On December 23, 2006, a complaint was register...</td>\n",
              "      <td>2006-12-23</td>\n",
              "      <td>2005-01-03</td>\n",
              "      <td>719</td>\n",
              "    </tr>\n",
              "    <tr>\n",
              "      <th>1924</th>\n",
              "      <td>19785</td>\n",
              "      <td>On December 23, 2006, a complaint was register...</td>\n",
              "      <td>2006-12-23</td>\n",
              "      <td>2005-09-26</td>\n",
              "      <td>453</td>\n",
              "    </tr>\n",
              "    <tr>\n",
              "      <th>1925</th>\n",
              "      <td>26373</td>\n",
              "      <td>On December 23, 2006, a complaint was register...</td>\n",
              "      <td>2006-12-23</td>\n",
              "      <td>2005-09-26</td>\n",
              "      <td>453</td>\n",
              "    </tr>\n",
              "    <tr>\n",
              "      <th>1926</th>\n",
              "      <td>28758</td>\n",
              "      <td>On December 23, 2006, a complaint was register...</td>\n",
              "      <td>2006-12-23</td>\n",
              "      <td>2006-02-21</td>\n",
              "      <td>305</td>\n",
              "    </tr>\n",
              "  </tbody>\n",
              "</table>\n",
              "<p>1927 rows × 5 columns</p>\n",
              "</div>"
            ],
            "text/plain": [
              "      officer_id  ... time_of_employment\n",
              "0          16061  ...               3556\n",
              "1          25864  ...               3151\n",
              "2          23361  ...               3012\n",
              "3          21210  ...               1406\n",
              "4          16338  ...               1003\n",
              "...          ...  ...                ...\n",
              "1922       10317  ...                719\n",
              "1923       27962  ...                719\n",
              "1924       19785  ...                453\n",
              "1925       26373  ...                453\n",
              "1926       28758  ...                305\n",
              "\n",
              "[1927 rows x 5 columns]"
            ]
          },
          "metadata": {},
          "execution_count": 4
        }
      ]
    },
    {
      "cell_type": "code",
      "metadata": {
        "colab": {
          "base_uri": "https://localhost:8080/"
        },
        "id": "e9GwWxA7KAkT",
        "outputId": "6458ee3a-a704-459f-b43e-9e8f2182bff3"
      },
      "source": [
        "df.columns"
      ],
      "execution_count": 5,
      "outputs": [
        {
          "output_type": "execute_result",
          "data": {
            "text/plain": [
              "Index(['officer_id', 'summary', 'incident_date', 'appointed_date',\n",
              "       'time_of_employment'],\n",
              "      dtype='object')"
            ]
          },
          "metadata": {},
          "execution_count": 5
        }
      ]
    },
    {
      "cell_type": "markdown",
      "metadata": {
        "id": "zDfBL_30g_Mq"
      },
      "source": [
        "Checking for nulls and duplicates and removing if any exist:"
      ]
    },
    {
      "cell_type": "code",
      "metadata": {
        "colab": {
          "base_uri": "https://localhost:8080/"
        },
        "id": "MVHDYBhJKC9E",
        "outputId": "d723a607-7e38-4058-df0a-e1b57a4ce402"
      },
      "source": [
        "df.isnull().sum() "
      ],
      "execution_count": 6,
      "outputs": [
        {
          "output_type": "execute_result",
          "data": {
            "text/plain": [
              "officer_id            0\n",
              "summary               0\n",
              "incident_date         0\n",
              "appointed_date        0\n",
              "time_of_employment    0\n",
              "dtype: int64"
            ]
          },
          "metadata": {},
          "execution_count": 6
        }
      ]
    },
    {
      "cell_type": "code",
      "metadata": {
        "colab": {
          "base_uri": "https://localhost:8080/"
        },
        "id": "lA5uxui5KFJX",
        "outputId": "b70494f4-0e8c-4484-8faf-b79685eec60e"
      },
      "source": [
        "duplicateRowsDF = df[df.duplicated()]\n",
        "duplicateRowsDF, duplicateRowsDF.shape"
      ],
      "execution_count": 7,
      "outputs": [
        {
          "output_type": "execute_result",
          "data": {
            "text/plain": [
              "(Empty DataFrame\n",
              " Columns: [officer_id, summary, incident_date, appointed_date, time_of_employment]\n",
              " Index: [], (0, 5))"
            ]
          },
          "metadata": {},
          "execution_count": 7
        }
      ]
    },
    {
      "cell_type": "code",
      "metadata": {
        "colab": {
          "base_uri": "https://localhost:8080/"
        },
        "id": "5p09044V4O2T",
        "outputId": "b09ad89d-9586-437b-b0f5-0548dbee36bb"
      },
      "source": [
        "df = df[df['officer_id'].notna()]\n",
        "df.shape"
      ],
      "execution_count": 8,
      "outputs": [
        {
          "output_type": "execute_result",
          "data": {
            "text/plain": [
              "(1927, 5)"
            ]
          },
          "metadata": {},
          "execution_count": 8
        }
      ]
    },
    {
      "cell_type": "code",
      "metadata": {
        "colab": {
          "base_uri": "https://localhost:8080/"
        },
        "id": "OjP1Sfle5EzJ",
        "outputId": "84a8cba5-6ec8-44e5-8c75-ca20e2bd2c9e"
      },
      "source": [
        "df['summary']"
      ],
      "execution_count": 9,
      "outputs": [
        {
          "output_type": "execute_result",
          "data": {
            "text/plain": [
              "0       Four on?duty CPD officers ordered a crowd to d...\n",
              "1       On 06 August 2009, a complaint was registered ...\n",
              "2       In an incident involving an off-duty CPD offic...\n",
              "3       On June 5, 2011, a complaint was registered wi...\n",
              "4       On January 4, 2007, a complaint was registered...\n",
              "                              ...                        \n",
              "1922    On December 23, 2006, a complaint was register...\n",
              "1923    On December 23, 2006, a complaint was register...\n",
              "1924    On December 23, 2006, a complaint was register...\n",
              "1925    On December 23, 2006, a complaint was register...\n",
              "1926    On December 23, 2006, a complaint was register...\n",
              "Name: summary, Length: 1927, dtype: object"
            ]
          },
          "metadata": {},
          "execution_count": 9
        }
      ]
    },
    {
      "cell_type": "code",
      "metadata": {
        "colab": {
          "base_uri": "https://localhost:8080/",
          "height": 70
        },
        "id": "1jvvCVzb5auA",
        "outputId": "18970cf6-2b07-4596-a96d-fad380bb3531"
      },
      "source": [
        "df['summary'][0]"
      ],
      "execution_count": 10,
      "outputs": [
        {
          "output_type": "execute_result",
          "data": {
            "application/vnd.google.colaboratory.intrinsic+json": {
              "type": "string"
            },
            "text/plain": [
              "'Four on?duty CPD officers ordered a crowd to disperse from a City sidewalk. One of the individuals, refused that order and subsequent orders to disperse. In response, the officers approached - who then took a fighting posture. The officers then arrested -.'"
            ]
          },
          "metadata": {},
          "execution_count": 10
        }
      ]
    },
    {
      "cell_type": "code",
      "metadata": {
        "colab": {
          "base_uri": "https://localhost:8080/",
          "height": 157
        },
        "id": "cGUy59ZI5hK8",
        "outputId": "f92f7631-56e4-4878-ca86-ab419d0316dc"
      },
      "source": [
        "df['summary'][1]"
      ],
      "execution_count": 11,
      "outputs": [
        {
          "output_type": "execute_result",
          "data": {
            "application/vnd.google.colaboratory.intrinsic+json": {
              "type": "string"
            },
            "text/plain": [
              "'On 06 August 2009, a complaint was registered with the Independent Police Review Authority (IPRA) regarding an incident that occurred in the 16th District, on August 4, 2009. It was alleged that a Chicago Police Department officer improperly handcuffed the complainant; handcuffed the complainant without justification; searched the residence of the complainant without consent and; threatened to arrest complainant in the event that the complainant should register a complaint against him. IPRA recommended to SUSTAIN the following allegations of violations committed by the accused: improperly handcuffed the complainant; handcuffed the complainant without justification and; searched the residence of the complainant without consent against the accused member based on corroborating witness statements, the officers statement, and reports. IPRA recommended a five (5) day suspension for the accused member.'"
            ]
          },
          "metadata": {},
          "execution_count": 11
        }
      ]
    },
    {
      "cell_type": "markdown",
      "metadata": {
        "id": "B5MFp0NrhFRu"
      },
      "source": [
        "Text pre-processing: \n",
        "1. Removing digits and uncommon characters\n",
        "2. Keeping sentences with at least 2 words"
      ]
    },
    {
      "cell_type": "code",
      "metadata": {
        "id": "rIUUVv-Pys8_"
      },
      "source": [
        "def text_to_word_list(text):\n",
        "    text = str(text)\n",
        "\n",
        "    # Clean the text\n",
        "    text = re.sub(r\"[^A-Za-z^,!?.\\/'+]\", \" \", text)\n",
        "    text = re.sub(r\"\\s{2,}\", \" \", text)\n",
        "    return text  \n"
      ],
      "execution_count": 12,
      "outputs": []
    },
    {
      "cell_type": "code",
      "metadata": {
        "id": "r_BzKzjyyuEm"
      },
      "source": [
        "df['cleaned_summary'] = df['summary'].apply(lambda x: text_to_word_list(x))\n"
      ],
      "execution_count": 13,
      "outputs": []
    },
    {
      "cell_type": "code",
      "metadata": {
        "colab": {
          "base_uri": "https://localhost:8080/",
          "height": 70
        },
        "id": "7_l45dey6_YX",
        "outputId": "4fa8a127-017b-44dd-b0b4-56baf1f94b1d"
      },
      "source": [
        "df['cleaned_summary'][0]"
      ],
      "execution_count": 14,
      "outputs": [
        {
          "output_type": "execute_result",
          "data": {
            "application/vnd.google.colaboratory.intrinsic+json": {
              "type": "string"
            },
            "text/plain": [
              "'Four on?duty CPD officers ordered a crowd to disperse from a City sidewalk. One of the individuals, refused that order and subsequent orders to disperse. In response, the officers approached who then took a fighting posture. The officers then arrested .'"
            ]
          },
          "metadata": {},
          "execution_count": 14
        }
      ]
    },
    {
      "cell_type": "markdown",
      "metadata": {
        "id": "RhycV8v4iuKQ"
      },
      "source": [
        "Tokenize to get a list of words and sentences to be able to compute lexical diversity (a measure of how many different words appear in a text ) of the vocabulary"
      ]
    },
    {
      "cell_type": "code",
      "metadata": {
        "id": "RuWYyi3S6966"
      },
      "source": [
        "words, sents = [], []\n",
        "for text in df['cleaned_summary']:\n",
        "        #sentence tokenization\n",
        "        sents.append(sent_tokenize(text))\n",
        "        #word tokenization\n",
        "        words.append(word_tokenize(text))"
      ],
      "execution_count": 15,
      "outputs": []
    },
    {
      "cell_type": "code",
      "metadata": {
        "colab": {
          "base_uri": "https://localhost:8080/"
        },
        "id": "NmyPQ8SC7V3n",
        "outputId": "20755c27-79e6-4a62-cb0f-26b9c647dc76"
      },
      "source": [
        "sents[0]"
      ],
      "execution_count": 16,
      "outputs": [
        {
          "output_type": "execute_result",
          "data": {
            "text/plain": [
              "['Four on?duty CPD officers ordered a crowd to disperse from a City sidewalk.',\n",
              " 'One of the individuals, refused that order and subsequent orders to disperse.',\n",
              " 'In response, the officers approached who then took a fighting posture.',\n",
              " 'The officers then arrested .']"
            ]
          },
          "metadata": {},
          "execution_count": 16
        }
      ]
    },
    {
      "cell_type": "code",
      "metadata": {
        "id": "SsUCL1e78Uwq"
      },
      "source": [
        "length_sents = [len(sublist) for sublist in sents]"
      ],
      "execution_count": 17,
      "outputs": []
    },
    {
      "cell_type": "code",
      "metadata": {
        "colab": {
          "base_uri": "https://localhost:8080/"
        },
        "id": "RAWnTGd68Xsb",
        "outputId": "031a101e-4e43-4c07-d483-20b517a69d84"
      },
      "source": [
        "avg = sum(length_sents)/len(length_sents)\n",
        "avg"
      ],
      "execution_count": 18,
      "outputs": [
        {
          "output_type": "execute_result",
          "data": {
            "text/plain": [
              "7.0435910742086145"
            ]
          },
          "metadata": {},
          "execution_count": 18
        }
      ]
    },
    {
      "cell_type": "code",
      "metadata": {
        "colab": {
          "base_uri": "https://localhost:8080/"
        },
        "id": "x4_xU1T78wxN",
        "outputId": "b78600bc-58c8-4201-faf6-9e7d079c3de5"
      },
      "source": [
        "word_list = [item for sublist in words for item in sublist]\n",
        "#number of words in the text\n",
        "text_words = len(word_list)\n",
        "text_words"
      ],
      "execution_count": 19,
      "outputs": [
        {
          "output_type": "execute_result",
          "data": {
            "text/plain": [
              "463250"
            ]
          },
          "metadata": {},
          "execution_count": 19
        }
      ]
    },
    {
      "cell_type": "code",
      "metadata": {
        "colab": {
          "base_uri": "https://localhost:8080/"
        },
        "id": "SRKnCJim81BW",
        "outputId": "30a14758-fb54-4386-cc9d-caeba8ea4620"
      },
      "source": [
        "unique_list = list(set(word_list)) \n",
        "#number of words in the vocabulary\n",
        "vocab_words = len(unique_list) \n",
        "vocab_words"
      ],
      "execution_count": 20,
      "outputs": [
        {
          "output_type": "execute_result",
          "data": {
            "text/plain": [
              "5285"
            ]
          },
          "metadata": {},
          "execution_count": 20
        }
      ]
    },
    {
      "cell_type": "code",
      "metadata": {
        "colab": {
          "base_uri": "https://localhost:8080/"
        },
        "id": "cD3aE_Mr8yuT",
        "outputId": "09cf75fa-d732-4d0e-c532-1a71c8140a58"
      },
      "source": [
        "lexical_diversity = vocab_words/text_words\n",
        "lexical_diversity"
      ],
      "execution_count": 21,
      "outputs": [
        {
          "output_type": "execute_result",
          "data": {
            "text/plain": [
              "0.011408526713437669"
            ]
          },
          "metadata": {},
          "execution_count": 21
        }
      ]
    },
    {
      "cell_type": "code",
      "metadata": {
        "id": "Nd4k-Te2ueX2"
      },
      "source": [
        "sid = SentimentIntensityAnalyzer()"
      ],
      "execution_count": 22,
      "outputs": []
    },
    {
      "cell_type": "markdown",
      "metadata": {
        "id": "t8pU9j66hf7e"
      },
      "source": [
        "Function sid.polarity_scores returns 4 elements :\n",
        "\n",
        "neg : negative sentiment score.\n",
        "\n",
        "neu : neutral sentiment score.\n",
        "\n",
        "pos : positive sentiment score\n",
        "\n",
        "compound : computed by normalising the scores above.\n",
        "\n",
        "Compound value around zero signifies neutral sentiments."
      ]
    },
    {
      "cell_type": "code",
      "metadata": {
        "id": "_P4dR4eBpJD_",
        "colab": {
          "base_uri": "https://localhost:8080/",
          "height": 747
        },
        "outputId": "1360d03a-acd4-4985-ffda-2d2ebf3693a2"
      },
      "source": [
        "df['scores'] = df['cleaned_summary'].apply(lambda summary: sid.polarity_scores(summary))\n",
        " \n",
        "#We break the dict generated above and pull only column 'compound'\n",
        "\n",
        "df['compound']  = df['scores'].apply(lambda s : s['compound'])\n",
        " \n",
        "#the step above returns values from -1 to 1.  \n",
        "df['positive_or_negative'] = df['compound'].apply(lambda n : 1 if n >=0 else 0)\n",
        " \n",
        "df.head()\n"
      ],
      "execution_count": 23,
      "outputs": [
        {
          "output_type": "execute_result",
          "data": {
            "text/html": [
              "<div>\n",
              "<style scoped>\n",
              "    .dataframe tbody tr th:only-of-type {\n",
              "        vertical-align: middle;\n",
              "    }\n",
              "\n",
              "    .dataframe tbody tr th {\n",
              "        vertical-align: top;\n",
              "    }\n",
              "\n",
              "    .dataframe thead th {\n",
              "        text-align: right;\n",
              "    }\n",
              "</style>\n",
              "<table border=\"1\" class=\"dataframe\">\n",
              "  <thead>\n",
              "    <tr style=\"text-align: right;\">\n",
              "      <th></th>\n",
              "      <th>officer_id</th>\n",
              "      <th>summary</th>\n",
              "      <th>incident_date</th>\n",
              "      <th>appointed_date</th>\n",
              "      <th>time_of_employment</th>\n",
              "      <th>cleaned_summary</th>\n",
              "      <th>scores</th>\n",
              "      <th>compound</th>\n",
              "      <th>positive_or_negative</th>\n",
              "    </tr>\n",
              "  </thead>\n",
              "  <tbody>\n",
              "    <tr>\n",
              "      <th>0</th>\n",
              "      <td>16061</td>\n",
              "      <td>Four on?duty CPD officers ordered a crowd to d...</td>\n",
              "      <td>2014-08-25</td>\n",
              "      <td>2004-11-29</td>\n",
              "      <td>3556</td>\n",
              "      <td>Four on?duty CPD officers ordered a crowd to d...</td>\n",
              "      <td>{'neg': 0.187, 'neu': 0.813, 'pos': 0.0, 'comp...</td>\n",
              "      <td>-0.7783</td>\n",
              "      <td>0</td>\n",
              "    </tr>\n",
              "    <tr>\n",
              "      <th>1</th>\n",
              "      <td>25864</td>\n",
              "      <td>On 06 August 2009, a complaint was registered ...</td>\n",
              "      <td>2009-08-04</td>\n",
              "      <td>2000-12-18</td>\n",
              "      <td>3151</td>\n",
              "      <td>On August , a complaint was registered with th...</td>\n",
              "      <td>{'neg': 0.242, 'neu': 0.69, 'pos': 0.068, 'com...</td>\n",
              "      <td>-0.9535</td>\n",
              "      <td>0</td>\n",
              "    </tr>\n",
              "    <tr>\n",
              "      <th>2</th>\n",
              "      <td>23361</td>\n",
              "      <td>In an incident involving an off-duty CPD offic...</td>\n",
              "      <td>2009-11-25</td>\n",
              "      <td>2001-08-27</td>\n",
              "      <td>3012</td>\n",
              "      <td>In an incident involving an off duty CPD offic...</td>\n",
              "      <td>{'neg': 0.161, 'neu': 0.823, 'pos': 0.016, 'co...</td>\n",
              "      <td>-0.9833</td>\n",
              "      <td>0</td>\n",
              "    </tr>\n",
              "    <tr>\n",
              "      <th>3</th>\n",
              "      <td>21210</td>\n",
              "      <td>On June 5, 2011, a complaint was registered wi...</td>\n",
              "      <td>2011-06-05</td>\n",
              "      <td>2007-07-30</td>\n",
              "      <td>1406</td>\n",
              "      <td>On June , , a complaint was registered with th...</td>\n",
              "      <td>{'neg': 0.162, 'neu': 0.758, 'pos': 0.08, 'com...</td>\n",
              "      <td>-0.7351</td>\n",
              "      <td>0</td>\n",
              "    </tr>\n",
              "    <tr>\n",
              "      <th>4</th>\n",
              "      <td>16338</td>\n",
              "      <td>On January 4, 2007, a complaint was registered...</td>\n",
              "      <td>2006-01-25</td>\n",
              "      <td>2003-04-28</td>\n",
              "      <td>1003</td>\n",
              "      <td>On January , , a complaint was registered with...</td>\n",
              "      <td>{'neg': 0.213, 'neu': 0.739, 'pos': 0.048, 'co...</td>\n",
              "      <td>-0.9874</td>\n",
              "      <td>0</td>\n",
              "    </tr>\n",
              "  </tbody>\n",
              "</table>\n",
              "</div>"
            ],
            "text/plain": [
              "   officer_id  ... positive_or_negative\n",
              "0       16061  ...                    0\n",
              "1       25864  ...                    0\n",
              "2       23361  ...                    0\n",
              "3       21210  ...                    0\n",
              "4       16338  ...                    0\n",
              "\n",
              "[5 rows x 9 columns]"
            ]
          },
          "metadata": {},
          "execution_count": 23
        }
      ]
    },
    {
      "cell_type": "code",
      "metadata": {
        "colab": {
          "base_uri": "https://localhost:8080/"
        },
        "id": "rjFJdMD8uCnr",
        "outputId": "49761b61-534d-4d26-bcee-3bc37e6e1360"
      },
      "source": [
        "max(df['compound'])"
      ],
      "execution_count": 24,
      "outputs": [
        {
          "output_type": "execute_result",
          "data": {
            "text/plain": [
              "0.9935"
            ]
          },
          "metadata": {},
          "execution_count": 24
        }
      ]
    },
    {
      "cell_type": "code",
      "metadata": {
        "colab": {
          "base_uri": "https://localhost:8080/"
        },
        "id": "jpLl96YsvQZi",
        "outputId": "46afa07c-45f3-45c3-85a9-921d26a65bfe"
      },
      "source": [
        "min(df['compound'])"
      ],
      "execution_count": 25,
      "outputs": [
        {
          "output_type": "execute_result",
          "data": {
            "text/plain": [
              "-0.9999"
            ]
          },
          "metadata": {},
          "execution_count": 25
        }
      ]
    },
    {
      "cell_type": "code",
      "metadata": {
        "id": "0VUvOPervTo9"
      },
      "source": [
        "rookie_df = df[df['time_of_employment'] <= 365]"
      ],
      "execution_count": 76,
      "outputs": []
    },
    {
      "cell_type": "code",
      "metadata": {
        "colab": {
          "base_uri": "https://localhost:8080/",
          "height": 1000
        },
        "id": "0poX8ElkdxI7",
        "outputId": "d302ad4d-6fe9-4e60-cb27-4b3764acc74c"
      },
      "source": [
        "rookie_df"
      ],
      "execution_count": 27,
      "outputs": [
        {
          "output_type": "execute_result",
          "data": {
            "text/html": [
              "<div>\n",
              "<style scoped>\n",
              "    .dataframe tbody tr th:only-of-type {\n",
              "        vertical-align: middle;\n",
              "    }\n",
              "\n",
              "    .dataframe tbody tr th {\n",
              "        vertical-align: top;\n",
              "    }\n",
              "\n",
              "    .dataframe thead th {\n",
              "        text-align: right;\n",
              "    }\n",
              "</style>\n",
              "<table border=\"1\" class=\"dataframe\">\n",
              "  <thead>\n",
              "    <tr style=\"text-align: right;\">\n",
              "      <th></th>\n",
              "      <th>officer_id</th>\n",
              "      <th>summary</th>\n",
              "      <th>incident_date</th>\n",
              "      <th>appointed_date</th>\n",
              "      <th>time_of_employment</th>\n",
              "      <th>cleaned_summary</th>\n",
              "      <th>scores</th>\n",
              "      <th>compound</th>\n",
              "      <th>positive_or_negative</th>\n",
              "    </tr>\n",
              "  </thead>\n",
              "  <tbody>\n",
              "    <tr>\n",
              "      <th>62</th>\n",
              "      <td>430</td>\n",
              "      <td>Subject 1 was pulled over for driving a vehicl...</td>\n",
              "      <td>2013-08-26</td>\n",
              "      <td>2012-10-05</td>\n",
              "      <td>325</td>\n",
              "      <td>Subject was pulled over for driving a vehicle ...</td>\n",
              "      <td>{'neg': 0.037, 'neu': 0.963, 'pos': 0.0, 'comp...</td>\n",
              "      <td>-0.4660</td>\n",
              "      <td>0</td>\n",
              "    </tr>\n",
              "    <tr>\n",
              "      <th>89</th>\n",
              "      <td>32658</td>\n",
              "      <td>On July 23, 2017, at approximately 10:00 PM, S...</td>\n",
              "      <td>2017-07-23</td>\n",
              "      <td>2017-07-17</td>\n",
              "      <td>6</td>\n",
              "      <td>On July , , at approximately PM, Subject and h...</td>\n",
              "      <td>{'neg': 0.048, 'neu': 0.917, 'pos': 0.035, 'co...</td>\n",
              "      <td>-0.6525</td>\n",
              "      <td>0</td>\n",
              "    </tr>\n",
              "    <tr>\n",
              "      <th>150</th>\n",
              "      <td>4486</td>\n",
              "      <td>On June 18, 2017, several concerned citizens p...</td>\n",
              "      <td>2017-06-18</td>\n",
              "      <td>2016-06-27</td>\n",
              "      <td>356</td>\n",
              "      <td>On June , , several concerned citizens placed ...</td>\n",
              "      <td>{'neg': 0.073, 'neu': 0.916, 'pos': 0.011, 'co...</td>\n",
              "      <td>-0.9268</td>\n",
              "      <td>0</td>\n",
              "    </tr>\n",
              "    <tr>\n",
              "      <th>163</th>\n",
              "      <td>9614</td>\n",
              "      <td>Body worn camera and Police Observation Device...</td>\n",
              "      <td>2016-11-01</td>\n",
              "      <td>2016-08-29</td>\n",
              "      <td>64</td>\n",
              "      <td>Body worn camera and Police Observation Device...</td>\n",
              "      <td>{'neg': 0.261, 'neu': 0.739, 'pos': 0.0, 'comp...</td>\n",
              "      <td>-0.5574</td>\n",
              "      <td>0</td>\n",
              "    </tr>\n",
              "    <tr>\n",
              "      <th>291</th>\n",
              "      <td>33034</td>\n",
              "      <td>Complainant, Subject 1, alleged he was unlawfu...</td>\n",
              "      <td>2018-04-16</td>\n",
              "      <td>2017-07-17</td>\n",
              "      <td>273</td>\n",
              "      <td>Complainant, Subject , alleged he was unlawful...</td>\n",
              "      <td>{'neg': 0.296, 'neu': 0.704, 'pos': 0.0, 'comp...</td>\n",
              "      <td>-0.8442</td>\n",
              "      <td>0</td>\n",
              "    </tr>\n",
              "    <tr>\n",
              "      <th>327</th>\n",
              "      <td>15903</td>\n",
              "      <td>On 18 April 2007, a complaint was registered w...</td>\n",
              "      <td>2007-04-18</td>\n",
              "      <td>2006-08-28</td>\n",
              "      <td>233</td>\n",
              "      <td>On April , a complaint was registered with the...</td>\n",
              "      <td>{'neg': 0.169, 'neu': 0.797, 'pos': 0.034, 'co...</td>\n",
              "      <td>-0.9954</td>\n",
              "      <td>0</td>\n",
              "    </tr>\n",
              "    <tr>\n",
              "      <th>383</th>\n",
              "      <td>4255</td>\n",
              "      <td>On 25 September 2007, a complaint was register...</td>\n",
              "      <td>2007-09-24</td>\n",
              "      <td>2006-11-27</td>\n",
              "      <td>301</td>\n",
              "      <td>On September , a complaint was registered with...</td>\n",
              "      <td>{'neg': 0.125, 'neu': 0.829, 'pos': 0.046, 'co...</td>\n",
              "      <td>-0.9403</td>\n",
              "      <td>0</td>\n",
              "    </tr>\n",
              "    <tr>\n",
              "      <th>406</th>\n",
              "      <td>6538</td>\n",
              "      <td>On 30 December 2007, a complaint was registere...</td>\n",
              "      <td>2007-12-30</td>\n",
              "      <td>2007-06-04</td>\n",
              "      <td>209</td>\n",
              "      <td>On December , a complaint was registered with ...</td>\n",
              "      <td>{'neg': 0.058, 'neu': 0.88, 'pos': 0.062, 'com...</td>\n",
              "      <td>-0.1027</td>\n",
              "      <td>0</td>\n",
              "    </tr>\n",
              "    <tr>\n",
              "      <th>437</th>\n",
              "      <td>28136</td>\n",
              "      <td>On 30 March 2008, a complaint was registered w...</td>\n",
              "      <td>2008-03-30</td>\n",
              "      <td>2007-04-02</td>\n",
              "      <td>363</td>\n",
              "      <td>On March , a complaint was registered with the...</td>\n",
              "      <td>{'neg': 0.147, 'neu': 0.791, 'pos': 0.062, 'co...</td>\n",
              "      <td>-0.9501</td>\n",
              "      <td>0</td>\n",
              "    </tr>\n",
              "    <tr>\n",
              "      <th>901</th>\n",
              "      <td>3694</td>\n",
              "      <td>On April 5th, 2011, a complaint was registered...</td>\n",
              "      <td>2011-04-03</td>\n",
              "      <td>2010-04-16</td>\n",
              "      <td>352</td>\n",
              "      <td>On April th, , a complaint was registered with...</td>\n",
              "      <td>{'neg': 0.205, 'neu': 0.737, 'pos': 0.057, 'co...</td>\n",
              "      <td>-0.9919</td>\n",
              "      <td>0</td>\n",
              "    </tr>\n",
              "    <tr>\n",
              "      <th>910</th>\n",
              "      <td>8804</td>\n",
              "      <td>In an incident involving three on-duty CPD mem...</td>\n",
              "      <td>2011-05-24</td>\n",
              "      <td>2010-09-01</td>\n",
              "      <td>265</td>\n",
              "      <td>In an incident involving three on duty CPD mem...</td>\n",
              "      <td>{'neg': 0.25, 'neu': 0.656, 'pos': 0.094, 'com...</td>\n",
              "      <td>-0.9956</td>\n",
              "      <td>0</td>\n",
              "    </tr>\n",
              "    <tr>\n",
              "      <th>1086</th>\n",
              "      <td>6321</td>\n",
              "      <td>In an incident involving an off-duty CPD Offic...</td>\n",
              "      <td>2013-04-01</td>\n",
              "      <td>2012-11-30</td>\n",
              "      <td>122</td>\n",
              "      <td>In an incident involving an off duty CPD Offic...</td>\n",
              "      <td>{'neg': 0.356, 'neu': 0.619, 'pos': 0.025, 'co...</td>\n",
              "      <td>-0.9840</td>\n",
              "      <td>0</td>\n",
              "    </tr>\n",
              "    <tr>\n",
              "      <th>1091</th>\n",
              "      <td>30548</td>\n",
              "      <td>In an incident involving an on-duty CPD Office...</td>\n",
              "      <td>2013-06-05</td>\n",
              "      <td>2012-12-14</td>\n",
              "      <td>173</td>\n",
              "      <td>In an incident involving an on duty CPD Office...</td>\n",
              "      <td>{'neg': 0.118, 'neu': 0.882, 'pos': 0.0, 'comp...</td>\n",
              "      <td>-0.3400</td>\n",
              "      <td>0</td>\n",
              "    </tr>\n",
              "    <tr>\n",
              "      <th>1100</th>\n",
              "      <td>30971</td>\n",
              "      <td>In an incident involving an on-duty CPD Office...</td>\n",
              "      <td>2013-10-11</td>\n",
              "      <td>2012-11-30</td>\n",
              "      <td>315</td>\n",
              "      <td>In an incident involving an on duty CPD Office...</td>\n",
              "      <td>{'neg': 0.196, 'neu': 0.804, 'pos': 0.0, 'comp...</td>\n",
              "      <td>-0.6486</td>\n",
              "      <td>0</td>\n",
              "    </tr>\n",
              "    <tr>\n",
              "      <th>1108</th>\n",
              "      <td>19280</td>\n",
              "      <td>In an incident involving an on-duty CPD Office...</td>\n",
              "      <td>2013-10-31</td>\n",
              "      <td>2013-03-05</td>\n",
              "      <td>240</td>\n",
              "      <td>In an incident involving an on duty CPD Office...</td>\n",
              "      <td>{'neg': 0.091, 'neu': 0.909, 'pos': 0.0, 'comp...</td>\n",
              "      <td>-0.3400</td>\n",
              "      <td>0</td>\n",
              "    </tr>\n",
              "    <tr>\n",
              "      <th>1176</th>\n",
              "      <td>15945</td>\n",
              "      <td>In an incident involving an on-duty CPD Office...</td>\n",
              "      <td>2014-05-30</td>\n",
              "      <td>2013-08-26</td>\n",
              "      <td>277</td>\n",
              "      <td>In an incident involving an on duty CPD Office...</td>\n",
              "      <td>{'neg': 0.0, 'neu': 0.927, 'pos': 0.073, 'comp...</td>\n",
              "      <td>0.2263</td>\n",
              "      <td>1</td>\n",
              "    </tr>\n",
              "    <tr>\n",
              "      <th>1183</th>\n",
              "      <td>12801</td>\n",
              "      <td>In an incident involving an on-duty CPD Office...</td>\n",
              "      <td>2014-06-25</td>\n",
              "      <td>2013-11-04</td>\n",
              "      <td>233</td>\n",
              "      <td>In an incident involving an on duty CPD Office...</td>\n",
              "      <td>{'neg': 0.082, 'neu': 0.853, 'pos': 0.065, 'co...</td>\n",
              "      <td>-0.1280</td>\n",
              "      <td>0</td>\n",
              "    </tr>\n",
              "    <tr>\n",
              "      <th>1268</th>\n",
              "      <td>16762</td>\n",
              "      <td>On 18 January 2007, a complaint was registered...</td>\n",
              "      <td>2006-12-15</td>\n",
              "      <td>2006-05-01</td>\n",
              "      <td>228</td>\n",
              "      <td>On January , a complaint was registered with t...</td>\n",
              "      <td>{'neg': 0.172, 'neu': 0.794, 'pos': 0.034, 'co...</td>\n",
              "      <td>-0.9857</td>\n",
              "      <td>0</td>\n",
              "    </tr>\n",
              "    <tr>\n",
              "      <th>1271</th>\n",
              "      <td>19530</td>\n",
              "      <td>On 18 January 2007, a complaint was registered...</td>\n",
              "      <td>2006-12-15</td>\n",
              "      <td>2006-02-21</td>\n",
              "      <td>297</td>\n",
              "      <td>On January , a complaint was registered with t...</td>\n",
              "      <td>{'neg': 0.172, 'neu': 0.794, 'pos': 0.034, 'co...</td>\n",
              "      <td>-0.9857</td>\n",
              "      <td>0</td>\n",
              "    </tr>\n",
              "    <tr>\n",
              "      <th>1334</th>\n",
              "      <td>4841</td>\n",
              "      <td>In an incident involving five on-duty CPD memb...</td>\n",
              "      <td>2011-04-10</td>\n",
              "      <td>2010-09-01</td>\n",
              "      <td>221</td>\n",
              "      <td>In an incident involving five on duty CPD memb...</td>\n",
              "      <td>{'neg': 0.198, 'neu': 0.756, 'pos': 0.046, 'co...</td>\n",
              "      <td>-0.9926</td>\n",
              "      <td>0</td>\n",
              "    </tr>\n",
              "    <tr>\n",
              "      <th>1710</th>\n",
              "      <td>30806</td>\n",
              "      <td>In an incident involving an on-duty CPD Probat...</td>\n",
              "      <td>2004-12-08</td>\n",
              "      <td>2014-04-28</td>\n",
              "      <td>-3428</td>\n",
              "      <td>In an incident involving an on duty CPD Probat...</td>\n",
              "      <td>{'neg': 0.085, 'neu': 0.848, 'pos': 0.067, 'co...</td>\n",
              "      <td>-0.1280</td>\n",
              "      <td>0</td>\n",
              "    </tr>\n",
              "    <tr>\n",
              "      <th>1831</th>\n",
              "      <td>6699</td>\n",
              "      <td>On October 29, 2006, a complaint was registere...</td>\n",
              "      <td>2006-10-29</td>\n",
              "      <td>2006-02-21</td>\n",
              "      <td>250</td>\n",
              "      <td>On October , , a complaint was registered with...</td>\n",
              "      <td>{'neg': 0.146, 'neu': 0.798, 'pos': 0.056, 'co...</td>\n",
              "      <td>-0.9674</td>\n",
              "      <td>0</td>\n",
              "    </tr>\n",
              "    <tr>\n",
              "      <th>1841</th>\n",
              "      <td>14813</td>\n",
              "      <td>On 27 November 2006, a complaint was registere...</td>\n",
              "      <td>2006-11-27</td>\n",
              "      <td>2006-07-31</td>\n",
              "      <td>119</td>\n",
              "      <td>On November , a complaint was registered with ...</td>\n",
              "      <td>{'neg': 0.143, 'neu': 0.798, 'pos': 0.059, 'co...</td>\n",
              "      <td>-0.7845</td>\n",
              "      <td>0</td>\n",
              "    </tr>\n",
              "    <tr>\n",
              "      <th>1926</th>\n",
              "      <td>28758</td>\n",
              "      <td>On December 23, 2006, a complaint was register...</td>\n",
              "      <td>2006-12-23</td>\n",
              "      <td>2006-02-21</td>\n",
              "      <td>305</td>\n",
              "      <td>On December , , a complaint was registered wit...</td>\n",
              "      <td>{'neg': 0.216, 'neu': 0.74, 'pos': 0.044, 'com...</td>\n",
              "      <td>-0.9994</td>\n",
              "      <td>0</td>\n",
              "    </tr>\n",
              "  </tbody>\n",
              "</table>\n",
              "</div>"
            ],
            "text/plain": [
              "      officer_id  ... positive_or_negative\n",
              "62           430  ...                    0\n",
              "89         32658  ...                    0\n",
              "150         4486  ...                    0\n",
              "163         9614  ...                    0\n",
              "291        33034  ...                    0\n",
              "327        15903  ...                    0\n",
              "383         4255  ...                    0\n",
              "406         6538  ...                    0\n",
              "437        28136  ...                    0\n",
              "901         3694  ...                    0\n",
              "910         8804  ...                    0\n",
              "1086        6321  ...                    0\n",
              "1091       30548  ...                    0\n",
              "1100       30971  ...                    0\n",
              "1108       19280  ...                    0\n",
              "1176       15945  ...                    1\n",
              "1183       12801  ...                    0\n",
              "1268       16762  ...                    0\n",
              "1271       19530  ...                    0\n",
              "1334        4841  ...                    0\n",
              "1710       30806  ...                    0\n",
              "1831        6699  ...                    0\n",
              "1841       14813  ...                    0\n",
              "1926       28758  ...                    0\n",
              "\n",
              "[24 rows x 9 columns]"
            ]
          },
          "metadata": {},
          "execution_count": 27
        }
      ]
    },
    {
      "cell_type": "code",
      "metadata": {
        "colab": {
          "base_uri": "https://localhost:8080/"
        },
        "id": "v09Kf7gidx_s",
        "outputId": "de75f3a2-9518-4202-fe01-d1191bc7a075"
      },
      "source": [
        "rookie_df.shape"
      ],
      "execution_count": 28,
      "outputs": [
        {
          "output_type": "execute_result",
          "data": {
            "text/plain": [
              "(24, 9)"
            ]
          },
          "metadata": {},
          "execution_count": 28
        }
      ]
    },
    {
      "cell_type": "code",
      "metadata": {
        "id": "e_Ju4-IBdzen"
      },
      "source": [
        "nonrookie_df = df[df['time_of_employment']>365]"
      ],
      "execution_count": 29,
      "outputs": []
    },
    {
      "cell_type": "code",
      "metadata": {
        "colab": {
          "base_uri": "https://localhost:8080/",
          "height": 1000
        },
        "id": "BQMNPFpbd3IZ",
        "outputId": "47771f3a-3540-45ef-9589-adadafa493ab"
      },
      "source": [
        "nonrookie_df"
      ],
      "execution_count": 30,
      "outputs": [
        {
          "output_type": "execute_result",
          "data": {
            "text/html": [
              "<div>\n",
              "<style scoped>\n",
              "    .dataframe tbody tr th:only-of-type {\n",
              "        vertical-align: middle;\n",
              "    }\n",
              "\n",
              "    .dataframe tbody tr th {\n",
              "        vertical-align: top;\n",
              "    }\n",
              "\n",
              "    .dataframe thead th {\n",
              "        text-align: right;\n",
              "    }\n",
              "</style>\n",
              "<table border=\"1\" class=\"dataframe\">\n",
              "  <thead>\n",
              "    <tr style=\"text-align: right;\">\n",
              "      <th></th>\n",
              "      <th>officer_id</th>\n",
              "      <th>summary</th>\n",
              "      <th>incident_date</th>\n",
              "      <th>appointed_date</th>\n",
              "      <th>time_of_employment</th>\n",
              "      <th>cleaned_summary</th>\n",
              "      <th>scores</th>\n",
              "      <th>compound</th>\n",
              "      <th>positive_or_negative</th>\n",
              "    </tr>\n",
              "  </thead>\n",
              "  <tbody>\n",
              "    <tr>\n",
              "      <th>0</th>\n",
              "      <td>16061</td>\n",
              "      <td>Four on?duty CPD officers ordered a crowd to d...</td>\n",
              "      <td>2014-08-25</td>\n",
              "      <td>2004-11-29</td>\n",
              "      <td>3556</td>\n",
              "      <td>Four on?duty CPD officers ordered a crowd to d...</td>\n",
              "      <td>{'neg': 0.187, 'neu': 0.813, 'pos': 0.0, 'comp...</td>\n",
              "      <td>-0.7783</td>\n",
              "      <td>0</td>\n",
              "    </tr>\n",
              "    <tr>\n",
              "      <th>1</th>\n",
              "      <td>25864</td>\n",
              "      <td>On 06 August 2009, a complaint was registered ...</td>\n",
              "      <td>2009-08-04</td>\n",
              "      <td>2000-12-18</td>\n",
              "      <td>3151</td>\n",
              "      <td>On August , a complaint was registered with th...</td>\n",
              "      <td>{'neg': 0.242, 'neu': 0.69, 'pos': 0.068, 'com...</td>\n",
              "      <td>-0.9535</td>\n",
              "      <td>0</td>\n",
              "    </tr>\n",
              "    <tr>\n",
              "      <th>2</th>\n",
              "      <td>23361</td>\n",
              "      <td>In an incident involving an off-duty CPD offic...</td>\n",
              "      <td>2009-11-25</td>\n",
              "      <td>2001-08-27</td>\n",
              "      <td>3012</td>\n",
              "      <td>In an incident involving an off duty CPD offic...</td>\n",
              "      <td>{'neg': 0.161, 'neu': 0.823, 'pos': 0.016, 'co...</td>\n",
              "      <td>-0.9833</td>\n",
              "      <td>0</td>\n",
              "    </tr>\n",
              "    <tr>\n",
              "      <th>3</th>\n",
              "      <td>21210</td>\n",
              "      <td>On June 5, 2011, a complaint was registered wi...</td>\n",
              "      <td>2011-06-05</td>\n",
              "      <td>2007-07-30</td>\n",
              "      <td>1406</td>\n",
              "      <td>On June , , a complaint was registered with th...</td>\n",
              "      <td>{'neg': 0.162, 'neu': 0.758, 'pos': 0.08, 'com...</td>\n",
              "      <td>-0.7351</td>\n",
              "      <td>0</td>\n",
              "    </tr>\n",
              "    <tr>\n",
              "      <th>4</th>\n",
              "      <td>16338</td>\n",
              "      <td>On January 4, 2007, a complaint was registered...</td>\n",
              "      <td>2006-01-25</td>\n",
              "      <td>2003-04-28</td>\n",
              "      <td>1003</td>\n",
              "      <td>On January , , a complaint was registered with...</td>\n",
              "      <td>{'neg': 0.213, 'neu': 0.739, 'pos': 0.048, 'co...</td>\n",
              "      <td>-0.9874</td>\n",
              "      <td>0</td>\n",
              "    </tr>\n",
              "    <tr>\n",
              "      <th>...</th>\n",
              "      <td>...</td>\n",
              "      <td>...</td>\n",
              "      <td>...</td>\n",
              "      <td>...</td>\n",
              "      <td>...</td>\n",
              "      <td>...</td>\n",
              "      <td>...</td>\n",
              "      <td>...</td>\n",
              "      <td>...</td>\n",
              "    </tr>\n",
              "    <tr>\n",
              "      <th>1921</th>\n",
              "      <td>8382</td>\n",
              "      <td>On December 23, 2006, a complaint was register...</td>\n",
              "      <td>2006-12-23</td>\n",
              "      <td>2004-11-29</td>\n",
              "      <td>754</td>\n",
              "      <td>On December , , a complaint was registered wit...</td>\n",
              "      <td>{'neg': 0.216, 'neu': 0.74, 'pos': 0.044, 'com...</td>\n",
              "      <td>-0.9994</td>\n",
              "      <td>0</td>\n",
              "    </tr>\n",
              "    <tr>\n",
              "      <th>1922</th>\n",
              "      <td>10317</td>\n",
              "      <td>On December 23, 2006, a complaint was register...</td>\n",
              "      <td>2006-12-23</td>\n",
              "      <td>2005-01-03</td>\n",
              "      <td>719</td>\n",
              "      <td>On December , , a complaint was registered wit...</td>\n",
              "      <td>{'neg': 0.216, 'neu': 0.74, 'pos': 0.044, 'com...</td>\n",
              "      <td>-0.9994</td>\n",
              "      <td>0</td>\n",
              "    </tr>\n",
              "    <tr>\n",
              "      <th>1923</th>\n",
              "      <td>27962</td>\n",
              "      <td>On December 23, 2006, a complaint was register...</td>\n",
              "      <td>2006-12-23</td>\n",
              "      <td>2005-01-03</td>\n",
              "      <td>719</td>\n",
              "      <td>On December , , a complaint was registered wit...</td>\n",
              "      <td>{'neg': 0.216, 'neu': 0.74, 'pos': 0.044, 'com...</td>\n",
              "      <td>-0.9994</td>\n",
              "      <td>0</td>\n",
              "    </tr>\n",
              "    <tr>\n",
              "      <th>1924</th>\n",
              "      <td>19785</td>\n",
              "      <td>On December 23, 2006, a complaint was register...</td>\n",
              "      <td>2006-12-23</td>\n",
              "      <td>2005-09-26</td>\n",
              "      <td>453</td>\n",
              "      <td>On December , , a complaint was registered wit...</td>\n",
              "      <td>{'neg': 0.216, 'neu': 0.74, 'pos': 0.044, 'com...</td>\n",
              "      <td>-0.9994</td>\n",
              "      <td>0</td>\n",
              "    </tr>\n",
              "    <tr>\n",
              "      <th>1925</th>\n",
              "      <td>26373</td>\n",
              "      <td>On December 23, 2006, a complaint was register...</td>\n",
              "      <td>2006-12-23</td>\n",
              "      <td>2005-09-26</td>\n",
              "      <td>453</td>\n",
              "      <td>On December , , a complaint was registered wit...</td>\n",
              "      <td>{'neg': 0.216, 'neu': 0.74, 'pos': 0.044, 'com...</td>\n",
              "      <td>-0.9994</td>\n",
              "      <td>0</td>\n",
              "    </tr>\n",
              "  </tbody>\n",
              "</table>\n",
              "<p>1903 rows × 9 columns</p>\n",
              "</div>"
            ],
            "text/plain": [
              "      officer_id  ... positive_or_negative\n",
              "0          16061  ...                    0\n",
              "1          25864  ...                    0\n",
              "2          23361  ...                    0\n",
              "3          21210  ...                    0\n",
              "4          16338  ...                    0\n",
              "...          ...  ...                  ...\n",
              "1921        8382  ...                    0\n",
              "1922       10317  ...                    0\n",
              "1923       27962  ...                    0\n",
              "1924       19785  ...                    0\n",
              "1925       26373  ...                    0\n",
              "\n",
              "[1903 rows x 9 columns]"
            ]
          },
          "metadata": {},
          "execution_count": 30
        }
      ]
    },
    {
      "cell_type": "code",
      "metadata": {
        "colab": {
          "base_uri": "https://localhost:8080/"
        },
        "id": "SDczTdl1d7hd",
        "outputId": "14391f25-ae58-4eb0-e774-5693d195ec34"
      },
      "source": [
        "nonrookie_df.shape"
      ],
      "execution_count": 31,
      "outputs": [
        {
          "output_type": "execute_result",
          "data": {
            "text/plain": [
              "(1903, 9)"
            ]
          },
          "metadata": {},
          "execution_count": 31
        }
      ]
    },
    {
      "cell_type": "code",
      "metadata": {
        "colab": {
          "base_uri": "https://localhost:8080/",
          "height": 1000
        },
        "id": "bZPesQmPbYKr",
        "outputId": "f6471fbb-b379-469d-fb37-3c43e4168507"
      },
      "source": [
        "df"
      ],
      "execution_count": 32,
      "outputs": [
        {
          "output_type": "execute_result",
          "data": {
            "text/html": [
              "<div>\n",
              "<style scoped>\n",
              "    .dataframe tbody tr th:only-of-type {\n",
              "        vertical-align: middle;\n",
              "    }\n",
              "\n",
              "    .dataframe tbody tr th {\n",
              "        vertical-align: top;\n",
              "    }\n",
              "\n",
              "    .dataframe thead th {\n",
              "        text-align: right;\n",
              "    }\n",
              "</style>\n",
              "<table border=\"1\" class=\"dataframe\">\n",
              "  <thead>\n",
              "    <tr style=\"text-align: right;\">\n",
              "      <th></th>\n",
              "      <th>officer_id</th>\n",
              "      <th>summary</th>\n",
              "      <th>incident_date</th>\n",
              "      <th>appointed_date</th>\n",
              "      <th>time_of_employment</th>\n",
              "      <th>cleaned_summary</th>\n",
              "      <th>scores</th>\n",
              "      <th>compound</th>\n",
              "      <th>positive_or_negative</th>\n",
              "    </tr>\n",
              "  </thead>\n",
              "  <tbody>\n",
              "    <tr>\n",
              "      <th>0</th>\n",
              "      <td>16061</td>\n",
              "      <td>Four on?duty CPD officers ordered a crowd to d...</td>\n",
              "      <td>2014-08-25</td>\n",
              "      <td>2004-11-29</td>\n",
              "      <td>3556</td>\n",
              "      <td>Four on?duty CPD officers ordered a crowd to d...</td>\n",
              "      <td>{'neg': 0.187, 'neu': 0.813, 'pos': 0.0, 'comp...</td>\n",
              "      <td>-0.7783</td>\n",
              "      <td>0</td>\n",
              "    </tr>\n",
              "    <tr>\n",
              "      <th>1</th>\n",
              "      <td>25864</td>\n",
              "      <td>On 06 August 2009, a complaint was registered ...</td>\n",
              "      <td>2009-08-04</td>\n",
              "      <td>2000-12-18</td>\n",
              "      <td>3151</td>\n",
              "      <td>On August , a complaint was registered with th...</td>\n",
              "      <td>{'neg': 0.242, 'neu': 0.69, 'pos': 0.068, 'com...</td>\n",
              "      <td>-0.9535</td>\n",
              "      <td>0</td>\n",
              "    </tr>\n",
              "    <tr>\n",
              "      <th>2</th>\n",
              "      <td>23361</td>\n",
              "      <td>In an incident involving an off-duty CPD offic...</td>\n",
              "      <td>2009-11-25</td>\n",
              "      <td>2001-08-27</td>\n",
              "      <td>3012</td>\n",
              "      <td>In an incident involving an off duty CPD offic...</td>\n",
              "      <td>{'neg': 0.161, 'neu': 0.823, 'pos': 0.016, 'co...</td>\n",
              "      <td>-0.9833</td>\n",
              "      <td>0</td>\n",
              "    </tr>\n",
              "    <tr>\n",
              "      <th>3</th>\n",
              "      <td>21210</td>\n",
              "      <td>On June 5, 2011, a complaint was registered wi...</td>\n",
              "      <td>2011-06-05</td>\n",
              "      <td>2007-07-30</td>\n",
              "      <td>1406</td>\n",
              "      <td>On June , , a complaint was registered with th...</td>\n",
              "      <td>{'neg': 0.162, 'neu': 0.758, 'pos': 0.08, 'com...</td>\n",
              "      <td>-0.7351</td>\n",
              "      <td>0</td>\n",
              "    </tr>\n",
              "    <tr>\n",
              "      <th>4</th>\n",
              "      <td>16338</td>\n",
              "      <td>On January 4, 2007, a complaint was registered...</td>\n",
              "      <td>2006-01-25</td>\n",
              "      <td>2003-04-28</td>\n",
              "      <td>1003</td>\n",
              "      <td>On January , , a complaint was registered with...</td>\n",
              "      <td>{'neg': 0.213, 'neu': 0.739, 'pos': 0.048, 'co...</td>\n",
              "      <td>-0.9874</td>\n",
              "      <td>0</td>\n",
              "    </tr>\n",
              "    <tr>\n",
              "      <th>...</th>\n",
              "      <td>...</td>\n",
              "      <td>...</td>\n",
              "      <td>...</td>\n",
              "      <td>...</td>\n",
              "      <td>...</td>\n",
              "      <td>...</td>\n",
              "      <td>...</td>\n",
              "      <td>...</td>\n",
              "      <td>...</td>\n",
              "    </tr>\n",
              "    <tr>\n",
              "      <th>1922</th>\n",
              "      <td>10317</td>\n",
              "      <td>On December 23, 2006, a complaint was register...</td>\n",
              "      <td>2006-12-23</td>\n",
              "      <td>2005-01-03</td>\n",
              "      <td>719</td>\n",
              "      <td>On December , , a complaint was registered wit...</td>\n",
              "      <td>{'neg': 0.216, 'neu': 0.74, 'pos': 0.044, 'com...</td>\n",
              "      <td>-0.9994</td>\n",
              "      <td>0</td>\n",
              "    </tr>\n",
              "    <tr>\n",
              "      <th>1923</th>\n",
              "      <td>27962</td>\n",
              "      <td>On December 23, 2006, a complaint was register...</td>\n",
              "      <td>2006-12-23</td>\n",
              "      <td>2005-01-03</td>\n",
              "      <td>719</td>\n",
              "      <td>On December , , a complaint was registered wit...</td>\n",
              "      <td>{'neg': 0.216, 'neu': 0.74, 'pos': 0.044, 'com...</td>\n",
              "      <td>-0.9994</td>\n",
              "      <td>0</td>\n",
              "    </tr>\n",
              "    <tr>\n",
              "      <th>1924</th>\n",
              "      <td>19785</td>\n",
              "      <td>On December 23, 2006, a complaint was register...</td>\n",
              "      <td>2006-12-23</td>\n",
              "      <td>2005-09-26</td>\n",
              "      <td>453</td>\n",
              "      <td>On December , , a complaint was registered wit...</td>\n",
              "      <td>{'neg': 0.216, 'neu': 0.74, 'pos': 0.044, 'com...</td>\n",
              "      <td>-0.9994</td>\n",
              "      <td>0</td>\n",
              "    </tr>\n",
              "    <tr>\n",
              "      <th>1925</th>\n",
              "      <td>26373</td>\n",
              "      <td>On December 23, 2006, a complaint was register...</td>\n",
              "      <td>2006-12-23</td>\n",
              "      <td>2005-09-26</td>\n",
              "      <td>453</td>\n",
              "      <td>On December , , a complaint was registered wit...</td>\n",
              "      <td>{'neg': 0.216, 'neu': 0.74, 'pos': 0.044, 'com...</td>\n",
              "      <td>-0.9994</td>\n",
              "      <td>0</td>\n",
              "    </tr>\n",
              "    <tr>\n",
              "      <th>1926</th>\n",
              "      <td>28758</td>\n",
              "      <td>On December 23, 2006, a complaint was register...</td>\n",
              "      <td>2006-12-23</td>\n",
              "      <td>2006-02-21</td>\n",
              "      <td>305</td>\n",
              "      <td>On December , , a complaint was registered wit...</td>\n",
              "      <td>{'neg': 0.216, 'neu': 0.74, 'pos': 0.044, 'com...</td>\n",
              "      <td>-0.9994</td>\n",
              "      <td>0</td>\n",
              "    </tr>\n",
              "  </tbody>\n",
              "</table>\n",
              "<p>1927 rows × 9 columns</p>\n",
              "</div>"
            ],
            "text/plain": [
              "      officer_id  ... positive_or_negative\n",
              "0          16061  ...                    0\n",
              "1          25864  ...                    0\n",
              "2          23361  ...                    0\n",
              "3          21210  ...                    0\n",
              "4          16338  ...                    0\n",
              "...          ...  ...                  ...\n",
              "1922       10317  ...                    0\n",
              "1923       27962  ...                    0\n",
              "1924       19785  ...                    0\n",
              "1925       26373  ...                    0\n",
              "1926       28758  ...                    0\n",
              "\n",
              "[1927 rows x 9 columns]"
            ]
          },
          "metadata": {},
          "execution_count": 32
        }
      ]
    },
    {
      "cell_type": "code",
      "metadata": {
        "colab": {
          "base_uri": "https://localhost:8080/"
        },
        "id": "YFuwJpNUbY2-",
        "outputId": "b1bf3754-60dd-4cfd-9853-d1426f2a55a1"
      },
      "source": [
        "min(df['time_of_employment'])"
      ],
      "execution_count": 33,
      "outputs": [
        {
          "output_type": "execute_result",
          "data": {
            "text/plain": [
              "-3428"
            ]
          },
          "metadata": {},
          "execution_count": 33
        }
      ]
    },
    {
      "cell_type": "code",
      "metadata": {
        "colab": {
          "base_uri": "https://localhost:8080/",
          "height": 205
        },
        "id": "WQ62MZ5JcSkP",
        "outputId": "5b293a2e-64a6-47d7-ac68-a0d48fff35e6"
      },
      "source": [
        "df[df['time_of_employment']<0]"
      ],
      "execution_count": 34,
      "outputs": [
        {
          "output_type": "execute_result",
          "data": {
            "text/html": [
              "<div>\n",
              "<style scoped>\n",
              "    .dataframe tbody tr th:only-of-type {\n",
              "        vertical-align: middle;\n",
              "    }\n",
              "\n",
              "    .dataframe tbody tr th {\n",
              "        vertical-align: top;\n",
              "    }\n",
              "\n",
              "    .dataframe thead th {\n",
              "        text-align: right;\n",
              "    }\n",
              "</style>\n",
              "<table border=\"1\" class=\"dataframe\">\n",
              "  <thead>\n",
              "    <tr style=\"text-align: right;\">\n",
              "      <th></th>\n",
              "      <th>officer_id</th>\n",
              "      <th>summary</th>\n",
              "      <th>incident_date</th>\n",
              "      <th>appointed_date</th>\n",
              "      <th>time_of_employment</th>\n",
              "      <th>cleaned_summary</th>\n",
              "      <th>scores</th>\n",
              "      <th>compound</th>\n",
              "      <th>positive_or_negative</th>\n",
              "    </tr>\n",
              "  </thead>\n",
              "  <tbody>\n",
              "    <tr>\n",
              "      <th>1710</th>\n",
              "      <td>30806</td>\n",
              "      <td>In an incident involving an on-duty CPD Probat...</td>\n",
              "      <td>2004-12-08</td>\n",
              "      <td>2014-04-28</td>\n",
              "      <td>-3428</td>\n",
              "      <td>In an incident involving an on duty CPD Probat...</td>\n",
              "      <td>{'neg': 0.085, 'neu': 0.848, 'pos': 0.067, 'co...</td>\n",
              "      <td>-0.128</td>\n",
              "      <td>0</td>\n",
              "    </tr>\n",
              "  </tbody>\n",
              "</table>\n",
              "</div>"
            ],
            "text/plain": [
              "      officer_id  ... positive_or_negative\n",
              "1710       30806  ...                    0\n",
              "\n",
              "[1 rows x 9 columns]"
            ]
          },
          "metadata": {},
          "execution_count": 34
        }
      ]
    },
    {
      "cell_type": "code",
      "metadata": {
        "id": "ZioDquSjcfjU"
      },
      "source": [
        "df = df[df['time_of_employment'] > 0]"
      ],
      "execution_count": 35,
      "outputs": []
    },
    {
      "cell_type": "code",
      "metadata": {
        "id": "Z1Wuc4B7c0un"
      },
      "source": [
        "df = df.reset_index(drop = True)"
      ],
      "execution_count": 36,
      "outputs": []
    },
    {
      "cell_type": "code",
      "metadata": {
        "id": "qljfZdvQa-y2"
      },
      "source": [
        "df_bins = pd.qcut(df['time_of_employment'], 4, labels=None, retbins=False, precision=3, duplicates='raise')"
      ],
      "execution_count": 37,
      "outputs": []
    },
    {
      "cell_type": "code",
      "metadata": {
        "id": "HT3QEpdHbQwv"
      },
      "source": [
        "df['bins'] = df_bins"
      ],
      "execution_count": 38,
      "outputs": []
    },
    {
      "cell_type": "code",
      "metadata": {
        "colab": {
          "base_uri": "https://localhost:8080/"
        },
        "id": "DzuOevLTdffr",
        "outputId": "57c6d0a3-89ed-453a-8460-1e2faf8ca51f"
      },
      "source": [
        "df_bins"
      ],
      "execution_count": 39,
      "outputs": [
        {
          "output_type": "execute_result",
          "data": {
            "text/plain": [
              "0       (2047.75, 3918.0]\n",
              "1       (2047.75, 3918.0]\n",
              "2       (2047.75, 3918.0]\n",
              "3        (5.999, 2047.75]\n",
              "4        (5.999, 2047.75]\n",
              "              ...        \n",
              "1921     (5.999, 2047.75]\n",
              "1922     (5.999, 2047.75]\n",
              "1923     (5.999, 2047.75]\n",
              "1924     (5.999, 2047.75]\n",
              "1925     (5.999, 2047.75]\n",
              "Name: time_of_employment, Length: 1926, dtype: category\n",
              "Categories (4, interval[float64]): [(5.999, 2047.75] < (2047.75, 3918.0] < (3918.0, 6032.5] <\n",
              "                                    (6032.5, 14423.0]]"
            ]
          },
          "metadata": {},
          "execution_count": 39
        }
      ]
    },
    {
      "cell_type": "code",
      "metadata": {
        "colab": {
          "base_uri": "https://localhost:8080/",
          "height": 1000
        },
        "id": "X_ezcesAdHeN",
        "outputId": "a7753754-221f-47e0-ecbc-184d86bf890c"
      },
      "source": [
        "df"
      ],
      "execution_count": 40,
      "outputs": [
        {
          "output_type": "execute_result",
          "data": {
            "text/html": [
              "<div>\n",
              "<style scoped>\n",
              "    .dataframe tbody tr th:only-of-type {\n",
              "        vertical-align: middle;\n",
              "    }\n",
              "\n",
              "    .dataframe tbody tr th {\n",
              "        vertical-align: top;\n",
              "    }\n",
              "\n",
              "    .dataframe thead th {\n",
              "        text-align: right;\n",
              "    }\n",
              "</style>\n",
              "<table border=\"1\" class=\"dataframe\">\n",
              "  <thead>\n",
              "    <tr style=\"text-align: right;\">\n",
              "      <th></th>\n",
              "      <th>officer_id</th>\n",
              "      <th>summary</th>\n",
              "      <th>incident_date</th>\n",
              "      <th>appointed_date</th>\n",
              "      <th>time_of_employment</th>\n",
              "      <th>cleaned_summary</th>\n",
              "      <th>scores</th>\n",
              "      <th>compound</th>\n",
              "      <th>positive_or_negative</th>\n",
              "      <th>bins</th>\n",
              "    </tr>\n",
              "  </thead>\n",
              "  <tbody>\n",
              "    <tr>\n",
              "      <th>0</th>\n",
              "      <td>16061</td>\n",
              "      <td>Four on?duty CPD officers ordered a crowd to d...</td>\n",
              "      <td>2014-08-25</td>\n",
              "      <td>2004-11-29</td>\n",
              "      <td>3556</td>\n",
              "      <td>Four on?duty CPD officers ordered a crowd to d...</td>\n",
              "      <td>{'neg': 0.187, 'neu': 0.813, 'pos': 0.0, 'comp...</td>\n",
              "      <td>-0.7783</td>\n",
              "      <td>0</td>\n",
              "      <td>(2047.75, 3918.0]</td>\n",
              "    </tr>\n",
              "    <tr>\n",
              "      <th>1</th>\n",
              "      <td>25864</td>\n",
              "      <td>On 06 August 2009, a complaint was registered ...</td>\n",
              "      <td>2009-08-04</td>\n",
              "      <td>2000-12-18</td>\n",
              "      <td>3151</td>\n",
              "      <td>On August , a complaint was registered with th...</td>\n",
              "      <td>{'neg': 0.242, 'neu': 0.69, 'pos': 0.068, 'com...</td>\n",
              "      <td>-0.9535</td>\n",
              "      <td>0</td>\n",
              "      <td>(2047.75, 3918.0]</td>\n",
              "    </tr>\n",
              "    <tr>\n",
              "      <th>2</th>\n",
              "      <td>23361</td>\n",
              "      <td>In an incident involving an off-duty CPD offic...</td>\n",
              "      <td>2009-11-25</td>\n",
              "      <td>2001-08-27</td>\n",
              "      <td>3012</td>\n",
              "      <td>In an incident involving an off duty CPD offic...</td>\n",
              "      <td>{'neg': 0.161, 'neu': 0.823, 'pos': 0.016, 'co...</td>\n",
              "      <td>-0.9833</td>\n",
              "      <td>0</td>\n",
              "      <td>(2047.75, 3918.0]</td>\n",
              "    </tr>\n",
              "    <tr>\n",
              "      <th>3</th>\n",
              "      <td>21210</td>\n",
              "      <td>On June 5, 2011, a complaint was registered wi...</td>\n",
              "      <td>2011-06-05</td>\n",
              "      <td>2007-07-30</td>\n",
              "      <td>1406</td>\n",
              "      <td>On June , , a complaint was registered with th...</td>\n",
              "      <td>{'neg': 0.162, 'neu': 0.758, 'pos': 0.08, 'com...</td>\n",
              "      <td>-0.7351</td>\n",
              "      <td>0</td>\n",
              "      <td>(5.999, 2047.75]</td>\n",
              "    </tr>\n",
              "    <tr>\n",
              "      <th>4</th>\n",
              "      <td>16338</td>\n",
              "      <td>On January 4, 2007, a complaint was registered...</td>\n",
              "      <td>2006-01-25</td>\n",
              "      <td>2003-04-28</td>\n",
              "      <td>1003</td>\n",
              "      <td>On January , , a complaint was registered with...</td>\n",
              "      <td>{'neg': 0.213, 'neu': 0.739, 'pos': 0.048, 'co...</td>\n",
              "      <td>-0.9874</td>\n",
              "      <td>0</td>\n",
              "      <td>(5.999, 2047.75]</td>\n",
              "    </tr>\n",
              "    <tr>\n",
              "      <th>...</th>\n",
              "      <td>...</td>\n",
              "      <td>...</td>\n",
              "      <td>...</td>\n",
              "      <td>...</td>\n",
              "      <td>...</td>\n",
              "      <td>...</td>\n",
              "      <td>...</td>\n",
              "      <td>...</td>\n",
              "      <td>...</td>\n",
              "      <td>...</td>\n",
              "    </tr>\n",
              "    <tr>\n",
              "      <th>1921</th>\n",
              "      <td>10317</td>\n",
              "      <td>On December 23, 2006, a complaint was register...</td>\n",
              "      <td>2006-12-23</td>\n",
              "      <td>2005-01-03</td>\n",
              "      <td>719</td>\n",
              "      <td>On December , , a complaint was registered wit...</td>\n",
              "      <td>{'neg': 0.216, 'neu': 0.74, 'pos': 0.044, 'com...</td>\n",
              "      <td>-0.9994</td>\n",
              "      <td>0</td>\n",
              "      <td>(5.999, 2047.75]</td>\n",
              "    </tr>\n",
              "    <tr>\n",
              "      <th>1922</th>\n",
              "      <td>27962</td>\n",
              "      <td>On December 23, 2006, a complaint was register...</td>\n",
              "      <td>2006-12-23</td>\n",
              "      <td>2005-01-03</td>\n",
              "      <td>719</td>\n",
              "      <td>On December , , a complaint was registered wit...</td>\n",
              "      <td>{'neg': 0.216, 'neu': 0.74, 'pos': 0.044, 'com...</td>\n",
              "      <td>-0.9994</td>\n",
              "      <td>0</td>\n",
              "      <td>(5.999, 2047.75]</td>\n",
              "    </tr>\n",
              "    <tr>\n",
              "      <th>1923</th>\n",
              "      <td>19785</td>\n",
              "      <td>On December 23, 2006, a complaint was register...</td>\n",
              "      <td>2006-12-23</td>\n",
              "      <td>2005-09-26</td>\n",
              "      <td>453</td>\n",
              "      <td>On December , , a complaint was registered wit...</td>\n",
              "      <td>{'neg': 0.216, 'neu': 0.74, 'pos': 0.044, 'com...</td>\n",
              "      <td>-0.9994</td>\n",
              "      <td>0</td>\n",
              "      <td>(5.999, 2047.75]</td>\n",
              "    </tr>\n",
              "    <tr>\n",
              "      <th>1924</th>\n",
              "      <td>26373</td>\n",
              "      <td>On December 23, 2006, a complaint was register...</td>\n",
              "      <td>2006-12-23</td>\n",
              "      <td>2005-09-26</td>\n",
              "      <td>453</td>\n",
              "      <td>On December , , a complaint was registered wit...</td>\n",
              "      <td>{'neg': 0.216, 'neu': 0.74, 'pos': 0.044, 'com...</td>\n",
              "      <td>-0.9994</td>\n",
              "      <td>0</td>\n",
              "      <td>(5.999, 2047.75]</td>\n",
              "    </tr>\n",
              "    <tr>\n",
              "      <th>1925</th>\n",
              "      <td>28758</td>\n",
              "      <td>On December 23, 2006, a complaint was register...</td>\n",
              "      <td>2006-12-23</td>\n",
              "      <td>2006-02-21</td>\n",
              "      <td>305</td>\n",
              "      <td>On December , , a complaint was registered wit...</td>\n",
              "      <td>{'neg': 0.216, 'neu': 0.74, 'pos': 0.044, 'com...</td>\n",
              "      <td>-0.9994</td>\n",
              "      <td>0</td>\n",
              "      <td>(5.999, 2047.75]</td>\n",
              "    </tr>\n",
              "  </tbody>\n",
              "</table>\n",
              "<p>1926 rows × 10 columns</p>\n",
              "</div>"
            ],
            "text/plain": [
              "      officer_id  ...               bins\n",
              "0          16061  ...  (2047.75, 3918.0]\n",
              "1          25864  ...  (2047.75, 3918.0]\n",
              "2          23361  ...  (2047.75, 3918.0]\n",
              "3          21210  ...   (5.999, 2047.75]\n",
              "4          16338  ...   (5.999, 2047.75]\n",
              "...          ...  ...                ...\n",
              "1921       10317  ...   (5.999, 2047.75]\n",
              "1922       27962  ...   (5.999, 2047.75]\n",
              "1923       19785  ...   (5.999, 2047.75]\n",
              "1924       26373  ...   (5.999, 2047.75]\n",
              "1925       28758  ...   (5.999, 2047.75]\n",
              "\n",
              "[1926 rows x 10 columns]"
            ]
          },
          "metadata": {},
          "execution_count": 40
        }
      ]
    },
    {
      "cell_type": "code",
      "metadata": {
        "id": "XlGwCBM-dIBw"
      },
      "source": [
        "df['bin_code'] = df['bins'].cat.codes"
      ],
      "execution_count": 41,
      "outputs": []
    },
    {
      "cell_type": "code",
      "metadata": {
        "colab": {
          "base_uri": "https://localhost:8080/",
          "height": 1000
        },
        "id": "89MgcBx7d8Qz",
        "outputId": "0fcd7797-0ce9-4886-c971-abfadd1c7bef"
      },
      "source": [
        "df"
      ],
      "execution_count": 42,
      "outputs": [
        {
          "output_type": "execute_result",
          "data": {
            "text/html": [
              "<div>\n",
              "<style scoped>\n",
              "    .dataframe tbody tr th:only-of-type {\n",
              "        vertical-align: middle;\n",
              "    }\n",
              "\n",
              "    .dataframe tbody tr th {\n",
              "        vertical-align: top;\n",
              "    }\n",
              "\n",
              "    .dataframe thead th {\n",
              "        text-align: right;\n",
              "    }\n",
              "</style>\n",
              "<table border=\"1\" class=\"dataframe\">\n",
              "  <thead>\n",
              "    <tr style=\"text-align: right;\">\n",
              "      <th></th>\n",
              "      <th>officer_id</th>\n",
              "      <th>summary</th>\n",
              "      <th>incident_date</th>\n",
              "      <th>appointed_date</th>\n",
              "      <th>time_of_employment</th>\n",
              "      <th>cleaned_summary</th>\n",
              "      <th>scores</th>\n",
              "      <th>compound</th>\n",
              "      <th>positive_or_negative</th>\n",
              "      <th>bins</th>\n",
              "      <th>bin_code</th>\n",
              "    </tr>\n",
              "  </thead>\n",
              "  <tbody>\n",
              "    <tr>\n",
              "      <th>0</th>\n",
              "      <td>16061</td>\n",
              "      <td>Four on?duty CPD officers ordered a crowd to d...</td>\n",
              "      <td>2014-08-25</td>\n",
              "      <td>2004-11-29</td>\n",
              "      <td>3556</td>\n",
              "      <td>Four on?duty CPD officers ordered a crowd to d...</td>\n",
              "      <td>{'neg': 0.187, 'neu': 0.813, 'pos': 0.0, 'comp...</td>\n",
              "      <td>-0.7783</td>\n",
              "      <td>0</td>\n",
              "      <td>(2047.75, 3918.0]</td>\n",
              "      <td>1</td>\n",
              "    </tr>\n",
              "    <tr>\n",
              "      <th>1</th>\n",
              "      <td>25864</td>\n",
              "      <td>On 06 August 2009, a complaint was registered ...</td>\n",
              "      <td>2009-08-04</td>\n",
              "      <td>2000-12-18</td>\n",
              "      <td>3151</td>\n",
              "      <td>On August , a complaint was registered with th...</td>\n",
              "      <td>{'neg': 0.242, 'neu': 0.69, 'pos': 0.068, 'com...</td>\n",
              "      <td>-0.9535</td>\n",
              "      <td>0</td>\n",
              "      <td>(2047.75, 3918.0]</td>\n",
              "      <td>1</td>\n",
              "    </tr>\n",
              "    <tr>\n",
              "      <th>2</th>\n",
              "      <td>23361</td>\n",
              "      <td>In an incident involving an off-duty CPD offic...</td>\n",
              "      <td>2009-11-25</td>\n",
              "      <td>2001-08-27</td>\n",
              "      <td>3012</td>\n",
              "      <td>In an incident involving an off duty CPD offic...</td>\n",
              "      <td>{'neg': 0.161, 'neu': 0.823, 'pos': 0.016, 'co...</td>\n",
              "      <td>-0.9833</td>\n",
              "      <td>0</td>\n",
              "      <td>(2047.75, 3918.0]</td>\n",
              "      <td>1</td>\n",
              "    </tr>\n",
              "    <tr>\n",
              "      <th>3</th>\n",
              "      <td>21210</td>\n",
              "      <td>On June 5, 2011, a complaint was registered wi...</td>\n",
              "      <td>2011-06-05</td>\n",
              "      <td>2007-07-30</td>\n",
              "      <td>1406</td>\n",
              "      <td>On June , , a complaint was registered with th...</td>\n",
              "      <td>{'neg': 0.162, 'neu': 0.758, 'pos': 0.08, 'com...</td>\n",
              "      <td>-0.7351</td>\n",
              "      <td>0</td>\n",
              "      <td>(5.999, 2047.75]</td>\n",
              "      <td>0</td>\n",
              "    </tr>\n",
              "    <tr>\n",
              "      <th>4</th>\n",
              "      <td>16338</td>\n",
              "      <td>On January 4, 2007, a complaint was registered...</td>\n",
              "      <td>2006-01-25</td>\n",
              "      <td>2003-04-28</td>\n",
              "      <td>1003</td>\n",
              "      <td>On January , , a complaint was registered with...</td>\n",
              "      <td>{'neg': 0.213, 'neu': 0.739, 'pos': 0.048, 'co...</td>\n",
              "      <td>-0.9874</td>\n",
              "      <td>0</td>\n",
              "      <td>(5.999, 2047.75]</td>\n",
              "      <td>0</td>\n",
              "    </tr>\n",
              "    <tr>\n",
              "      <th>...</th>\n",
              "      <td>...</td>\n",
              "      <td>...</td>\n",
              "      <td>...</td>\n",
              "      <td>...</td>\n",
              "      <td>...</td>\n",
              "      <td>...</td>\n",
              "      <td>...</td>\n",
              "      <td>...</td>\n",
              "      <td>...</td>\n",
              "      <td>...</td>\n",
              "      <td>...</td>\n",
              "    </tr>\n",
              "    <tr>\n",
              "      <th>1921</th>\n",
              "      <td>10317</td>\n",
              "      <td>On December 23, 2006, a complaint was register...</td>\n",
              "      <td>2006-12-23</td>\n",
              "      <td>2005-01-03</td>\n",
              "      <td>719</td>\n",
              "      <td>On December , , a complaint was registered wit...</td>\n",
              "      <td>{'neg': 0.216, 'neu': 0.74, 'pos': 0.044, 'com...</td>\n",
              "      <td>-0.9994</td>\n",
              "      <td>0</td>\n",
              "      <td>(5.999, 2047.75]</td>\n",
              "      <td>0</td>\n",
              "    </tr>\n",
              "    <tr>\n",
              "      <th>1922</th>\n",
              "      <td>27962</td>\n",
              "      <td>On December 23, 2006, a complaint was register...</td>\n",
              "      <td>2006-12-23</td>\n",
              "      <td>2005-01-03</td>\n",
              "      <td>719</td>\n",
              "      <td>On December , , a complaint was registered wit...</td>\n",
              "      <td>{'neg': 0.216, 'neu': 0.74, 'pos': 0.044, 'com...</td>\n",
              "      <td>-0.9994</td>\n",
              "      <td>0</td>\n",
              "      <td>(5.999, 2047.75]</td>\n",
              "      <td>0</td>\n",
              "    </tr>\n",
              "    <tr>\n",
              "      <th>1923</th>\n",
              "      <td>19785</td>\n",
              "      <td>On December 23, 2006, a complaint was register...</td>\n",
              "      <td>2006-12-23</td>\n",
              "      <td>2005-09-26</td>\n",
              "      <td>453</td>\n",
              "      <td>On December , , a complaint was registered wit...</td>\n",
              "      <td>{'neg': 0.216, 'neu': 0.74, 'pos': 0.044, 'com...</td>\n",
              "      <td>-0.9994</td>\n",
              "      <td>0</td>\n",
              "      <td>(5.999, 2047.75]</td>\n",
              "      <td>0</td>\n",
              "    </tr>\n",
              "    <tr>\n",
              "      <th>1924</th>\n",
              "      <td>26373</td>\n",
              "      <td>On December 23, 2006, a complaint was register...</td>\n",
              "      <td>2006-12-23</td>\n",
              "      <td>2005-09-26</td>\n",
              "      <td>453</td>\n",
              "      <td>On December , , a complaint was registered wit...</td>\n",
              "      <td>{'neg': 0.216, 'neu': 0.74, 'pos': 0.044, 'com...</td>\n",
              "      <td>-0.9994</td>\n",
              "      <td>0</td>\n",
              "      <td>(5.999, 2047.75]</td>\n",
              "      <td>0</td>\n",
              "    </tr>\n",
              "    <tr>\n",
              "      <th>1925</th>\n",
              "      <td>28758</td>\n",
              "      <td>On December 23, 2006, a complaint was register...</td>\n",
              "      <td>2006-12-23</td>\n",
              "      <td>2006-02-21</td>\n",
              "      <td>305</td>\n",
              "      <td>On December , , a complaint was registered wit...</td>\n",
              "      <td>{'neg': 0.216, 'neu': 0.74, 'pos': 0.044, 'com...</td>\n",
              "      <td>-0.9994</td>\n",
              "      <td>0</td>\n",
              "      <td>(5.999, 2047.75]</td>\n",
              "      <td>0</td>\n",
              "    </tr>\n",
              "  </tbody>\n",
              "</table>\n",
              "<p>1926 rows × 11 columns</p>\n",
              "</div>"
            ],
            "text/plain": [
              "      officer_id  ... bin_code\n",
              "0          16061  ...        1\n",
              "1          25864  ...        1\n",
              "2          23361  ...        1\n",
              "3          21210  ...        0\n",
              "4          16338  ...        0\n",
              "...          ...  ...      ...\n",
              "1921       10317  ...        0\n",
              "1922       27962  ...        0\n",
              "1923       19785  ...        0\n",
              "1924       26373  ...        0\n",
              "1925       28758  ...        0\n",
              "\n",
              "[1926 rows x 11 columns]"
            ]
          },
          "metadata": {},
          "execution_count": 42
        }
      ]
    },
    {
      "cell_type": "code",
      "metadata": {
        "id": "7rdR5wAGd82A"
      },
      "source": [
        "bin_group = df.groupby(df['bin_code'])"
      ],
      "execution_count": 62,
      "outputs": []
    },
    {
      "cell_type": "code",
      "metadata": {
        "colab": {
          "base_uri": "https://localhost:8080/",
          "height": 1000
        },
        "id": "U2kmRy-IvCdF",
        "outputId": "fe7bca48-efeb-4658-a6e2-4850360845c6"
      },
      "source": [
        "# Time of employment in the range of (5.999, 2047.75) days ~ up to 5 years 7 months\n",
        "bin_group.get_group(0)"
      ],
      "execution_count": 63,
      "outputs": [
        {
          "output_type": "execute_result",
          "data": {
            "text/html": [
              "<div>\n",
              "<style scoped>\n",
              "    .dataframe tbody tr th:only-of-type {\n",
              "        vertical-align: middle;\n",
              "    }\n",
              "\n",
              "    .dataframe tbody tr th {\n",
              "        vertical-align: top;\n",
              "    }\n",
              "\n",
              "    .dataframe thead th {\n",
              "        text-align: right;\n",
              "    }\n",
              "</style>\n",
              "<table border=\"1\" class=\"dataframe\">\n",
              "  <thead>\n",
              "    <tr style=\"text-align: right;\">\n",
              "      <th></th>\n",
              "      <th>officer_id</th>\n",
              "      <th>summary</th>\n",
              "      <th>incident_date</th>\n",
              "      <th>appointed_date</th>\n",
              "      <th>time_of_employment</th>\n",
              "      <th>cleaned_summary</th>\n",
              "      <th>scores</th>\n",
              "      <th>compound</th>\n",
              "      <th>positive_or_negative</th>\n",
              "      <th>bins</th>\n",
              "      <th>bin_code</th>\n",
              "    </tr>\n",
              "  </thead>\n",
              "  <tbody>\n",
              "    <tr>\n",
              "      <th>3</th>\n",
              "      <td>21210</td>\n",
              "      <td>On June 5, 2011, a complaint was registered wi...</td>\n",
              "      <td>2011-06-05</td>\n",
              "      <td>2007-07-30</td>\n",
              "      <td>1406</td>\n",
              "      <td>On June , , a complaint was registered with th...</td>\n",
              "      <td>{'neg': 0.162, 'neu': 0.758, 'pos': 0.08, 'com...</td>\n",
              "      <td>-0.7351</td>\n",
              "      <td>0</td>\n",
              "      <td>(5.999, 2047.75]</td>\n",
              "      <td>0</td>\n",
              "    </tr>\n",
              "    <tr>\n",
              "      <th>4</th>\n",
              "      <td>16338</td>\n",
              "      <td>On January 4, 2007, a complaint was registered...</td>\n",
              "      <td>2006-01-25</td>\n",
              "      <td>2003-04-28</td>\n",
              "      <td>1003</td>\n",
              "      <td>On January , , a complaint was registered with...</td>\n",
              "      <td>{'neg': 0.213, 'neu': 0.739, 'pos': 0.048, 'co...</td>\n",
              "      <td>-0.9874</td>\n",
              "      <td>0</td>\n",
              "      <td>(5.999, 2047.75]</td>\n",
              "      <td>0</td>\n",
              "    </tr>\n",
              "    <tr>\n",
              "      <th>8</th>\n",
              "      <td>8690</td>\n",
              "      <td>On July 28, 2016, at approximately 10:30 pm, a...</td>\n",
              "      <td>2016-07-28</td>\n",
              "      <td>2014-10-27</td>\n",
              "      <td>640</td>\n",
              "      <td>On July , , at approximately pm, at S. Eberhar...</td>\n",
              "      <td>{'neg': 0.086, 'neu': 0.86, 'pos': 0.054, 'com...</td>\n",
              "      <td>-0.6440</td>\n",
              "      <td>0</td>\n",
              "      <td>(5.999, 2047.75]</td>\n",
              "      <td>0</td>\n",
              "    </tr>\n",
              "    <tr>\n",
              "      <th>14</th>\n",
              "      <td>4978</td>\n",
              "      <td>On July 26, 2106, was loudly arguing with his ...</td>\n",
              "      <td>2016-07-26</td>\n",
              "      <td>2013-05-01</td>\n",
              "      <td>1182</td>\n",
              "      <td>On July , , was loudly arguing with his girlfr...</td>\n",
              "      <td>{'neg': 0.14, 'neu': 0.767, 'pos': 0.093, 'com...</td>\n",
              "      <td>-0.9846</td>\n",
              "      <td>0</td>\n",
              "      <td>(5.999, 2047.75]</td>\n",
              "      <td>0</td>\n",
              "    </tr>\n",
              "    <tr>\n",
              "      <th>16</th>\n",
              "      <td>31298</td>\n",
              "      <td>On July 28, 2016,_was arrested for Possession ...</td>\n",
              "      <td>2016-07-28</td>\n",
              "      <td>2011-10-17</td>\n",
              "      <td>1746</td>\n",
              "      <td>On July , , was arrested for Possession of a C...</td>\n",
              "      <td>{'neg': 0.147, 'neu': 0.809, 'pos': 0.044, 'co...</td>\n",
              "      <td>-0.9805</td>\n",
              "      <td>0</td>\n",
              "      <td>(5.999, 2047.75]</td>\n",
              "      <td>0</td>\n",
              "    </tr>\n",
              "    <tr>\n",
              "      <th>...</th>\n",
              "      <td>...</td>\n",
              "      <td>...</td>\n",
              "      <td>...</td>\n",
              "      <td>...</td>\n",
              "      <td>...</td>\n",
              "      <td>...</td>\n",
              "      <td>...</td>\n",
              "      <td>...</td>\n",
              "      <td>...</td>\n",
              "      <td>...</td>\n",
              "      <td>...</td>\n",
              "    </tr>\n",
              "    <tr>\n",
              "      <th>1921</th>\n",
              "      <td>10317</td>\n",
              "      <td>On December 23, 2006, a complaint was register...</td>\n",
              "      <td>2006-12-23</td>\n",
              "      <td>2005-01-03</td>\n",
              "      <td>719</td>\n",
              "      <td>On December , , a complaint was registered wit...</td>\n",
              "      <td>{'neg': 0.216, 'neu': 0.74, 'pos': 0.044, 'com...</td>\n",
              "      <td>-0.9994</td>\n",
              "      <td>0</td>\n",
              "      <td>(5.999, 2047.75]</td>\n",
              "      <td>0</td>\n",
              "    </tr>\n",
              "    <tr>\n",
              "      <th>1922</th>\n",
              "      <td>27962</td>\n",
              "      <td>On December 23, 2006, a complaint was register...</td>\n",
              "      <td>2006-12-23</td>\n",
              "      <td>2005-01-03</td>\n",
              "      <td>719</td>\n",
              "      <td>On December , , a complaint was registered wit...</td>\n",
              "      <td>{'neg': 0.216, 'neu': 0.74, 'pos': 0.044, 'com...</td>\n",
              "      <td>-0.9994</td>\n",
              "      <td>0</td>\n",
              "      <td>(5.999, 2047.75]</td>\n",
              "      <td>0</td>\n",
              "    </tr>\n",
              "    <tr>\n",
              "      <th>1923</th>\n",
              "      <td>19785</td>\n",
              "      <td>On December 23, 2006, a complaint was register...</td>\n",
              "      <td>2006-12-23</td>\n",
              "      <td>2005-09-26</td>\n",
              "      <td>453</td>\n",
              "      <td>On December , , a complaint was registered wit...</td>\n",
              "      <td>{'neg': 0.216, 'neu': 0.74, 'pos': 0.044, 'com...</td>\n",
              "      <td>-0.9994</td>\n",
              "      <td>0</td>\n",
              "      <td>(5.999, 2047.75]</td>\n",
              "      <td>0</td>\n",
              "    </tr>\n",
              "    <tr>\n",
              "      <th>1924</th>\n",
              "      <td>26373</td>\n",
              "      <td>On December 23, 2006, a complaint was register...</td>\n",
              "      <td>2006-12-23</td>\n",
              "      <td>2005-09-26</td>\n",
              "      <td>453</td>\n",
              "      <td>On December , , a complaint was registered wit...</td>\n",
              "      <td>{'neg': 0.216, 'neu': 0.74, 'pos': 0.044, 'com...</td>\n",
              "      <td>-0.9994</td>\n",
              "      <td>0</td>\n",
              "      <td>(5.999, 2047.75]</td>\n",
              "      <td>0</td>\n",
              "    </tr>\n",
              "    <tr>\n",
              "      <th>1925</th>\n",
              "      <td>28758</td>\n",
              "      <td>On December 23, 2006, a complaint was register...</td>\n",
              "      <td>2006-12-23</td>\n",
              "      <td>2006-02-21</td>\n",
              "      <td>305</td>\n",
              "      <td>On December , , a complaint was registered wit...</td>\n",
              "      <td>{'neg': 0.216, 'neu': 0.74, 'pos': 0.044, 'com...</td>\n",
              "      <td>-0.9994</td>\n",
              "      <td>0</td>\n",
              "      <td>(5.999, 2047.75]</td>\n",
              "      <td>0</td>\n",
              "    </tr>\n",
              "  </tbody>\n",
              "</table>\n",
              "<p>482 rows × 11 columns</p>\n",
              "</div>"
            ],
            "text/plain": [
              "      officer_id  ... bin_code\n",
              "3          21210  ...        0\n",
              "4          16338  ...        0\n",
              "8           8690  ...        0\n",
              "14          4978  ...        0\n",
              "16         31298  ...        0\n",
              "...          ...  ...      ...\n",
              "1921       10317  ...        0\n",
              "1922       27962  ...        0\n",
              "1923       19785  ...        0\n",
              "1924       26373  ...        0\n",
              "1925       28758  ...        0\n",
              "\n",
              "[482 rows x 11 columns]"
            ]
          },
          "metadata": {},
          "execution_count": 63
        }
      ]
    },
    {
      "cell_type": "code",
      "metadata": {
        "colab": {
          "base_uri": "https://localhost:8080/",
          "height": 1000
        },
        "id": "BX7unZtmvTPO",
        "outputId": "533d1770-898d-43f6-8c5d-dc5b5b93635e"
      },
      "source": [
        "# Time of employment in the range of (2047.75, 3918.0) days ~ between 5 years 7 months and 10 years 9 months\n",
        "bin_group.get_group(1)"
      ],
      "execution_count": 64,
      "outputs": [
        {
          "output_type": "execute_result",
          "data": {
            "text/html": [
              "<div>\n",
              "<style scoped>\n",
              "    .dataframe tbody tr th:only-of-type {\n",
              "        vertical-align: middle;\n",
              "    }\n",
              "\n",
              "    .dataframe tbody tr th {\n",
              "        vertical-align: top;\n",
              "    }\n",
              "\n",
              "    .dataframe thead th {\n",
              "        text-align: right;\n",
              "    }\n",
              "</style>\n",
              "<table border=\"1\" class=\"dataframe\">\n",
              "  <thead>\n",
              "    <tr style=\"text-align: right;\">\n",
              "      <th></th>\n",
              "      <th>officer_id</th>\n",
              "      <th>summary</th>\n",
              "      <th>incident_date</th>\n",
              "      <th>appointed_date</th>\n",
              "      <th>time_of_employment</th>\n",
              "      <th>cleaned_summary</th>\n",
              "      <th>scores</th>\n",
              "      <th>compound</th>\n",
              "      <th>positive_or_negative</th>\n",
              "      <th>bins</th>\n",
              "      <th>bin_code</th>\n",
              "    </tr>\n",
              "  </thead>\n",
              "  <tbody>\n",
              "    <tr>\n",
              "      <th>0</th>\n",
              "      <td>16061</td>\n",
              "      <td>Four on?duty CPD officers ordered a crowd to d...</td>\n",
              "      <td>2014-08-25</td>\n",
              "      <td>2004-11-29</td>\n",
              "      <td>3556</td>\n",
              "      <td>Four on?duty CPD officers ordered a crowd to d...</td>\n",
              "      <td>{'neg': 0.187, 'neu': 0.813, 'pos': 0.0, 'comp...</td>\n",
              "      <td>-0.7783</td>\n",
              "      <td>0</td>\n",
              "      <td>(2047.75, 3918.0]</td>\n",
              "      <td>1</td>\n",
              "    </tr>\n",
              "    <tr>\n",
              "      <th>1</th>\n",
              "      <td>25864</td>\n",
              "      <td>On 06 August 2009, a complaint was registered ...</td>\n",
              "      <td>2009-08-04</td>\n",
              "      <td>2000-12-18</td>\n",
              "      <td>3151</td>\n",
              "      <td>On August , a complaint was registered with th...</td>\n",
              "      <td>{'neg': 0.242, 'neu': 0.69, 'pos': 0.068, 'com...</td>\n",
              "      <td>-0.9535</td>\n",
              "      <td>0</td>\n",
              "      <td>(2047.75, 3918.0]</td>\n",
              "      <td>1</td>\n",
              "    </tr>\n",
              "    <tr>\n",
              "      <th>2</th>\n",
              "      <td>23361</td>\n",
              "      <td>In an incident involving an off-duty CPD offic...</td>\n",
              "      <td>2009-11-25</td>\n",
              "      <td>2001-08-27</td>\n",
              "      <td>3012</td>\n",
              "      <td>In an incident involving an off duty CPD offic...</td>\n",
              "      <td>{'neg': 0.161, 'neu': 0.823, 'pos': 0.016, 'co...</td>\n",
              "      <td>-0.9833</td>\n",
              "      <td>0</td>\n",
              "      <td>(2047.75, 3918.0]</td>\n",
              "      <td>1</td>\n",
              "    </tr>\n",
              "    <tr>\n",
              "      <th>9</th>\n",
              "      <td>30599</td>\n",
              "      <td>On July 28, 2016, at approximately 10:30 pm, a...</td>\n",
              "      <td>2016-07-28</td>\n",
              "      <td>2006-11-27</td>\n",
              "      <td>3531</td>\n",
              "      <td>On July , , at approximately pm, at S. Eberhar...</td>\n",
              "      <td>{'neg': 0.086, 'neu': 0.86, 'pos': 0.054, 'com...</td>\n",
              "      <td>-0.6440</td>\n",
              "      <td>0</td>\n",
              "      <td>(2047.75, 3918.0]</td>\n",
              "      <td>1</td>\n",
              "    </tr>\n",
              "    <tr>\n",
              "      <th>19</th>\n",
              "      <td>10273</td>\n",
              "      <td>On November 12, 2016, Of?cer (?Of?cer and Offi...</td>\n",
              "      <td>2016-11-12</td>\n",
              "      <td>2007-07-30</td>\n",
              "      <td>3393</td>\n",
              "      <td>On November , , Of?cer ?Of?cer and Officer ?Of...</td>\n",
              "      <td>{'neg': 0.06, 'neu': 0.92, 'pos': 0.019, 'comp...</td>\n",
              "      <td>-0.9197</td>\n",
              "      <td>0</td>\n",
              "      <td>(2047.75, 3918.0]</td>\n",
              "      <td>1</td>\n",
              "    </tr>\n",
              "    <tr>\n",
              "      <th>...</th>\n",
              "      <td>...</td>\n",
              "      <td>...</td>\n",
              "      <td>...</td>\n",
              "      <td>...</td>\n",
              "      <td>...</td>\n",
              "      <td>...</td>\n",
              "      <td>...</td>\n",
              "      <td>...</td>\n",
              "      <td>...</td>\n",
              "      <td>...</td>\n",
              "      <td>...</td>\n",
              "    </tr>\n",
              "    <tr>\n",
              "      <th>1897</th>\n",
              "      <td>23566</td>\n",
              "      <td>On 9 April 2007, a complaint was registered wi...</td>\n",
              "      <td>2007-04-09</td>\n",
              "      <td>1998-03-16</td>\n",
              "      <td>3311</td>\n",
              "      <td>On April , a complaint was registered with the...</td>\n",
              "      <td>{'neg': 0.164, 'neu': 0.794, 'pos': 0.043, 'co...</td>\n",
              "      <td>-0.9524</td>\n",
              "      <td>0</td>\n",
              "      <td>(2047.75, 3918.0]</td>\n",
              "      <td>1</td>\n",
              "    </tr>\n",
              "    <tr>\n",
              "      <th>1903</th>\n",
              "      <td>31242</td>\n",
              "      <td>On 05 April 2007, a complaint was registered w...</td>\n",
              "      <td>2007-04-05</td>\n",
              "      <td>1998-06-08</td>\n",
              "      <td>3223</td>\n",
              "      <td>On April , a complaint was registered with the...</td>\n",
              "      <td>{'neg': 0.201, 'neu': 0.744, 'pos': 0.055, 'co...</td>\n",
              "      <td>-0.9965</td>\n",
              "      <td>0</td>\n",
              "      <td>(2047.75, 3918.0]</td>\n",
              "      <td>1</td>\n",
              "    </tr>\n",
              "    <tr>\n",
              "      <th>1907</th>\n",
              "      <td>2022</td>\n",
              "      <td>_an from the accused officers after they saw h...</td>\n",
              "      <td>2016-06-19</td>\n",
              "      <td>2010-09-01</td>\n",
              "      <td>2118</td>\n",
              "      <td>an from the accused officers after they saw h...</td>\n",
              "      <td>{'neg': 0.078, 'neu': 0.884, 'pos': 0.038, 'co...</td>\n",
              "      <td>-0.7569</td>\n",
              "      <td>0</td>\n",
              "      <td>(2047.75, 3918.0]</td>\n",
              "      <td>1</td>\n",
              "    </tr>\n",
              "    <tr>\n",
              "      <th>1908</th>\n",
              "      <td>8059</td>\n",
              "      <td>On December 23, 2006, a complaint was register...</td>\n",
              "      <td>2006-12-23</td>\n",
              "      <td>2001-03-26</td>\n",
              "      <td>2098</td>\n",
              "      <td>On December , , a complaint was registered wit...</td>\n",
              "      <td>{'neg': 0.216, 'neu': 0.74, 'pos': 0.044, 'com...</td>\n",
              "      <td>-0.9994</td>\n",
              "      <td>0</td>\n",
              "      <td>(2047.75, 3918.0]</td>\n",
              "      <td>1</td>\n",
              "    </tr>\n",
              "    <tr>\n",
              "      <th>1912</th>\n",
              "      <td>12040</td>\n",
              "      <td>On December 23, 2006, a complaint was register...</td>\n",
              "      <td>2006-12-23</td>\n",
              "      <td>1996-12-02</td>\n",
              "      <td>3673</td>\n",
              "      <td>On December , , a complaint was registered wit...</td>\n",
              "      <td>{'neg': 0.216, 'neu': 0.74, 'pos': 0.044, 'com...</td>\n",
              "      <td>-0.9994</td>\n",
              "      <td>0</td>\n",
              "      <td>(2047.75, 3918.0]</td>\n",
              "      <td>1</td>\n",
              "    </tr>\n",
              "  </tbody>\n",
              "</table>\n",
              "<p>481 rows × 11 columns</p>\n",
              "</div>"
            ],
            "text/plain": [
              "      officer_id  ... bin_code\n",
              "0          16061  ...        1\n",
              "1          25864  ...        1\n",
              "2          23361  ...        1\n",
              "9          30599  ...        1\n",
              "19         10273  ...        1\n",
              "...          ...  ...      ...\n",
              "1897       23566  ...        1\n",
              "1903       31242  ...        1\n",
              "1907        2022  ...        1\n",
              "1908        8059  ...        1\n",
              "1912       12040  ...        1\n",
              "\n",
              "[481 rows x 11 columns]"
            ]
          },
          "metadata": {},
          "execution_count": 64
        }
      ]
    },
    {
      "cell_type": "code",
      "metadata": {
        "colab": {
          "base_uri": "https://localhost:8080/",
          "height": 1000
        },
        "id": "hyRXBFppvXg9",
        "outputId": "e3e7de1e-1e64-4d48-e685-236893d98410"
      },
      "source": [
        "# Time of employment in the range of (3918.0, 6032.5) days ~ between 10 years 9 months and 16 years 6 months\n",
        "bin_group.get_group(2)"
      ],
      "execution_count": 65,
      "outputs": [
        {
          "output_type": "execute_result",
          "data": {
            "text/html": [
              "<div>\n",
              "<style scoped>\n",
              "    .dataframe tbody tr th:only-of-type {\n",
              "        vertical-align: middle;\n",
              "    }\n",
              "\n",
              "    .dataframe tbody tr th {\n",
              "        vertical-align: top;\n",
              "    }\n",
              "\n",
              "    .dataframe thead th {\n",
              "        text-align: right;\n",
              "    }\n",
              "</style>\n",
              "<table border=\"1\" class=\"dataframe\">\n",
              "  <thead>\n",
              "    <tr style=\"text-align: right;\">\n",
              "      <th></th>\n",
              "      <th>officer_id</th>\n",
              "      <th>summary</th>\n",
              "      <th>incident_date</th>\n",
              "      <th>appointed_date</th>\n",
              "      <th>time_of_employment</th>\n",
              "      <th>cleaned_summary</th>\n",
              "      <th>scores</th>\n",
              "      <th>compound</th>\n",
              "      <th>positive_or_negative</th>\n",
              "      <th>bins</th>\n",
              "      <th>bin_code</th>\n",
              "    </tr>\n",
              "  </thead>\n",
              "  <tbody>\n",
              "    <tr>\n",
              "      <th>5</th>\n",
              "      <td>27176</td>\n",
              "      <td>On April 3, 2016, Officers and were on routine...</td>\n",
              "      <td>2016-04-03</td>\n",
              "      <td>2003-04-28</td>\n",
              "      <td>4724</td>\n",
              "      <td>On April , , Officers and were on routine patr...</td>\n",
              "      <td>{'neg': 0.151, 'neu': 0.826, 'pos': 0.023, 'co...</td>\n",
              "      <td>-0.9626</td>\n",
              "      <td>0</td>\n",
              "      <td>(3918.0, 6032.5]</td>\n",
              "      <td>2</td>\n",
              "    </tr>\n",
              "    <tr>\n",
              "      <th>6</th>\n",
              "      <td>14739</td>\n",
              "      <td>was involved in a traffic collision with Based...</td>\n",
              "      <td>2015-05-31</td>\n",
              "      <td>2000-09-11</td>\n",
              "      <td>5375</td>\n",
              "      <td>was involved in a traffic collision with Based...</td>\n",
              "      <td>{'neg': 0.038, 'neu': 0.905, 'pos': 0.058, 'co...</td>\n",
              "      <td>0.5147</td>\n",
              "      <td>1</td>\n",
              "      <td>(3918.0, 6032.5]</td>\n",
              "      <td>2</td>\n",
              "    </tr>\n",
              "    <tr>\n",
              "      <th>7</th>\n",
              "      <td>26865</td>\n",
              "      <td>On April 3, 2016, Officers and were on routine...</td>\n",
              "      <td>2016-04-03</td>\n",
              "      <td>2002-09-30</td>\n",
              "      <td>4934</td>\n",
              "      <td>On April , , Officers and were on routine patr...</td>\n",
              "      <td>{'neg': 0.151, 'neu': 0.826, 'pos': 0.023, 'co...</td>\n",
              "      <td>-0.9626</td>\n",
              "      <td>0</td>\n",
              "      <td>(3918.0, 6032.5]</td>\n",
              "      <td>2</td>\n",
              "    </tr>\n",
              "    <tr>\n",
              "      <th>11</th>\n",
              "      <td>21479</td>\n",
              "      <td>On July 26, 2016, ?called the Independent Poli...</td>\n",
              "      <td>2015-05-14</td>\n",
              "      <td>2000-01-24</td>\n",
              "      <td>5589</td>\n",
              "      <td>On July , , ?called the Independent Police Rev...</td>\n",
              "      <td>{'neg': 0.0, 'neu': 0.924, 'pos': 0.076, 'comp...</td>\n",
              "      <td>0.2640</td>\n",
              "      <td>1</td>\n",
              "      <td>(3918.0, 6032.5]</td>\n",
              "      <td>2</td>\n",
              "    </tr>\n",
              "    <tr>\n",
              "      <th>12</th>\n",
              "      <td>20651</td>\n",
              "      <td>On August 22, 2016, at approximately 1:10 am, ...</td>\n",
              "      <td>2016-08-22</td>\n",
              "      <td>2004-09-27</td>\n",
              "      <td>4347</td>\n",
              "      <td>On August , , at approximately am, members of ...</td>\n",
              "      <td>{'neg': 0.11, 'neu': 0.831, 'pos': 0.059, 'com...</td>\n",
              "      <td>-0.9755</td>\n",
              "      <td>0</td>\n",
              "      <td>(3918.0, 6032.5]</td>\n",
              "      <td>2</td>\n",
              "    </tr>\n",
              "    <tr>\n",
              "      <th>...</th>\n",
              "      <td>...</td>\n",
              "      <td>...</td>\n",
              "      <td>...</td>\n",
              "      <td>...</td>\n",
              "      <td>...</td>\n",
              "      <td>...</td>\n",
              "      <td>...</td>\n",
              "      <td>...</td>\n",
              "      <td>...</td>\n",
              "      <td>...</td>\n",
              "      <td>...</td>\n",
              "    </tr>\n",
              "    <tr>\n",
              "      <th>1893</th>\n",
              "      <td>22838</td>\n",
              "      <td>On March 30, 2007, a complaint was registered ...</td>\n",
              "      <td>2007-03-02</td>\n",
              "      <td>1992-09-28</td>\n",
              "      <td>5268</td>\n",
              "      <td>On March , , a complaint was registered with t...</td>\n",
              "      <td>{'neg': 0.18, 'neu': 0.769, 'pos': 0.052, 'com...</td>\n",
              "      <td>-0.9986</td>\n",
              "      <td>0</td>\n",
              "      <td>(3918.0, 6032.5]</td>\n",
              "      <td>2</td>\n",
              "    </tr>\n",
              "    <tr>\n",
              "      <th>1899</th>\n",
              "      <td>32330</td>\n",
              "      <td>On May 31st, 2011, a complaint was registered ...</td>\n",
              "      <td>2011-05-29</td>\n",
              "      <td>1999-05-10</td>\n",
              "      <td>4402</td>\n",
              "      <td>On May st, , a complaint was registered with t...</td>\n",
              "      <td>{'neg': 0.302, 'neu': 0.662, 'pos': 0.037, 'co...</td>\n",
              "      <td>-0.9986</td>\n",
              "      <td>0</td>\n",
              "      <td>(3918.0, 6032.5]</td>\n",
              "      <td>2</td>\n",
              "    </tr>\n",
              "    <tr>\n",
              "      <th>1902</th>\n",
              "      <td>28821</td>\n",
              "      <td>On 05 April 2007, a complaint was registered w...</td>\n",
              "      <td>2007-04-05</td>\n",
              "      <td>1993-11-22</td>\n",
              "      <td>4882</td>\n",
              "      <td>On April , a complaint was registered with the...</td>\n",
              "      <td>{'neg': 0.201, 'neu': 0.744, 'pos': 0.055, 'co...</td>\n",
              "      <td>-0.9965</td>\n",
              "      <td>0</td>\n",
              "      <td>(3918.0, 6032.5]</td>\n",
              "      <td>2</td>\n",
              "    </tr>\n",
              "    <tr>\n",
              "      <th>1904</th>\n",
              "      <td>4599</td>\n",
              "      <td>On 20 September 2007, a complaint was register...</td>\n",
              "      <td>2007-09-20</td>\n",
              "      <td>1994-12-05</td>\n",
              "      <td>4672</td>\n",
              "      <td>On September , a complaint was registered with...</td>\n",
              "      <td>{'neg': 0.145, 'neu': 0.774, 'pos': 0.081, 'co...</td>\n",
              "      <td>-0.8636</td>\n",
              "      <td>0</td>\n",
              "      <td>(3918.0, 6032.5]</td>\n",
              "      <td>2</td>\n",
              "    </tr>\n",
              "    <tr>\n",
              "      <th>1910</th>\n",
              "      <td>18989</td>\n",
              "      <td>On December 23, 2006, a complaint was register...</td>\n",
              "      <td>2006-12-23</td>\n",
              "      <td>1995-07-10</td>\n",
              "      <td>4184</td>\n",
              "      <td>On December , , a complaint was registered wit...</td>\n",
              "      <td>{'neg': 0.216, 'neu': 0.74, 'pos': 0.044, 'com...</td>\n",
              "      <td>-0.9994</td>\n",
              "      <td>0</td>\n",
              "      <td>(3918.0, 6032.5]</td>\n",
              "      <td>2</td>\n",
              "    </tr>\n",
              "  </tbody>\n",
              "</table>\n",
              "<p>481 rows × 11 columns</p>\n",
              "</div>"
            ],
            "text/plain": [
              "      officer_id  ... bin_code\n",
              "5          27176  ...        2\n",
              "6          14739  ...        2\n",
              "7          26865  ...        2\n",
              "11         21479  ...        2\n",
              "12         20651  ...        2\n",
              "...          ...  ...      ...\n",
              "1893       22838  ...        2\n",
              "1899       32330  ...        2\n",
              "1902       28821  ...        2\n",
              "1904        4599  ...        2\n",
              "1910       18989  ...        2\n",
              "\n",
              "[481 rows x 11 columns]"
            ]
          },
          "metadata": {},
          "execution_count": 65
        }
      ]
    },
    {
      "cell_type": "code",
      "metadata": {
        "colab": {
          "base_uri": "https://localhost:8080/",
          "height": 1000
        },
        "id": "iK67jUb4vboV",
        "outputId": "97bb33cc-79ec-45d1-ca50-ae24eb8d6708"
      },
      "source": [
        "# Time of employment in the range of (6032.5, 14423.0) days ~ between 16 years 6 months and 39 years 5 months\n",
        "bin_group.get_group(3)"
      ],
      "execution_count": 68,
      "outputs": [
        {
          "output_type": "execute_result",
          "data": {
            "text/html": [
              "<div>\n",
              "<style scoped>\n",
              "    .dataframe tbody tr th:only-of-type {\n",
              "        vertical-align: middle;\n",
              "    }\n",
              "\n",
              "    .dataframe tbody tr th {\n",
              "        vertical-align: top;\n",
              "    }\n",
              "\n",
              "    .dataframe thead th {\n",
              "        text-align: right;\n",
              "    }\n",
              "</style>\n",
              "<table border=\"1\" class=\"dataframe\">\n",
              "  <thead>\n",
              "    <tr style=\"text-align: right;\">\n",
              "      <th></th>\n",
              "      <th>officer_id</th>\n",
              "      <th>summary</th>\n",
              "      <th>incident_date</th>\n",
              "      <th>appointed_date</th>\n",
              "      <th>time_of_employment</th>\n",
              "      <th>cleaned_summary</th>\n",
              "      <th>scores</th>\n",
              "      <th>compound</th>\n",
              "      <th>positive_or_negative</th>\n",
              "      <th>bins</th>\n",
              "      <th>bin_code</th>\n",
              "    </tr>\n",
              "  </thead>\n",
              "  <tbody>\n",
              "    <tr>\n",
              "      <th>10</th>\n",
              "      <td>25442</td>\n",
              "      <td>On July 9, 2016, Subject 1 held a birthday par...</td>\n",
              "      <td>2016-07-09</td>\n",
              "      <td>1999-10-04</td>\n",
              "      <td>6123</td>\n",
              "      <td>On July , , Subject held a birthday party at h...</td>\n",
              "      <td>{'neg': 0.088, 'neu': 0.873, 'pos': 0.039, 'co...</td>\n",
              "      <td>-0.6486</td>\n",
              "      <td>0</td>\n",
              "      <td>(6032.5, 14423.0]</td>\n",
              "      <td>3</td>\n",
              "    </tr>\n",
              "    <tr>\n",
              "      <th>18</th>\n",
              "      <td>31631</td>\n",
              "      <td>In?Car Camera footage depicts Accused CPD Serg...</td>\n",
              "      <td>2016-10-27</td>\n",
              "      <td>1988-12-05</td>\n",
              "      <td>10188</td>\n",
              "      <td>In?Car Camera footage depicts Accused CPD Serg...</td>\n",
              "      <td>{'neg': 0.2, 'neu': 0.8, 'pos': 0.0, 'compound...</td>\n",
              "      <td>-0.6124</td>\n",
              "      <td>0</td>\n",
              "      <td>(6032.5, 14423.0]</td>\n",
              "      <td>3</td>\n",
              "    </tr>\n",
              "    <tr>\n",
              "      <th>27</th>\n",
              "      <td>19485</td>\n",
              "      <td>On 20 September 2016, at approximately 12:15 P...</td>\n",
              "      <td>2016-09-20</td>\n",
              "      <td>1998-10-13</td>\n",
              "      <td>6552</td>\n",
              "      <td>On September , at approximately P.M., Subject ...</td>\n",
              "      <td>{'neg': 0.075, 'neu': 0.925, 'pos': 0.0, 'comp...</td>\n",
              "      <td>-0.6553</td>\n",
              "      <td>0</td>\n",
              "      <td>(6032.5, 14423.0]</td>\n",
              "      <td>3</td>\n",
              "    </tr>\n",
              "    <tr>\n",
              "      <th>28</th>\n",
              "      <td>29236</td>\n",
              "      <td>On September 20, 2016, at approximately 8:01 p...</td>\n",
              "      <td>2016-09-20</td>\n",
              "      <td>1998-02-17</td>\n",
              "      <td>6790</td>\n",
              "      <td>On September , , at approximately pm, in the v...</td>\n",
              "      <td>{'neg': 0.112, 'neu': 0.826, 'pos': 0.062, 'co...</td>\n",
              "      <td>-0.3400</td>\n",
              "      <td>0</td>\n",
              "      <td>(6032.5, 14423.0]</td>\n",
              "      <td>3</td>\n",
              "    </tr>\n",
              "    <tr>\n",
              "      <th>33</th>\n",
              "      <td>3383</td>\n",
              "      <td>On November 27, 2016, at approximately 10:00 a...</td>\n",
              "      <td>2016-11-27</td>\n",
              "      <td>1994-05-02</td>\n",
              "      <td>8245</td>\n",
              "      <td>On November , , at approximately am, Officer A...</td>\n",
              "      <td>{'neg': 0.144, 'neu': 0.821, 'pos': 0.035, 'co...</td>\n",
              "      <td>-0.9517</td>\n",
              "      <td>0</td>\n",
              "      <td>(6032.5, 14423.0]</td>\n",
              "      <td>3</td>\n",
              "    </tr>\n",
              "    <tr>\n",
              "      <th>...</th>\n",
              "      <td>...</td>\n",
              "      <td>...</td>\n",
              "      <td>...</td>\n",
              "      <td>...</td>\n",
              "      <td>...</td>\n",
              "      <td>...</td>\n",
              "      <td>...</td>\n",
              "      <td>...</td>\n",
              "      <td>...</td>\n",
              "      <td>...</td>\n",
              "      <td>...</td>\n",
              "    </tr>\n",
              "    <tr>\n",
              "      <th>1873</th>\n",
              "      <td>20418</td>\n",
              "      <td>On 25 February 2007, a complaint was registere...</td>\n",
              "      <td>2007-02-21</td>\n",
              "      <td>1982-02-01</td>\n",
              "      <td>9151</td>\n",
              "      <td>On February , a complaint was registered with ...</td>\n",
              "      <td>{'neg': 0.276, 'neu': 0.688, 'pos': 0.036, 'co...</td>\n",
              "      <td>-0.9837</td>\n",
              "      <td>0</td>\n",
              "      <td>(6032.5, 14423.0]</td>\n",
              "      <td>3</td>\n",
              "    </tr>\n",
              "    <tr>\n",
              "      <th>1894</th>\n",
              "      <td>7208</td>\n",
              "      <td>On March 30, 2007, a complaint was registered ...</td>\n",
              "      <td>2007-03-02</td>\n",
              "      <td>1986-11-17</td>\n",
              "      <td>7410</td>\n",
              "      <td>On March , , a complaint was registered with t...</td>\n",
              "      <td>{'neg': 0.18, 'neu': 0.769, 'pos': 0.052, 'com...</td>\n",
              "      <td>-0.9986</td>\n",
              "      <td>0</td>\n",
              "      <td>(6032.5, 14423.0]</td>\n",
              "      <td>3</td>\n",
              "    </tr>\n",
              "    <tr>\n",
              "      <th>1895</th>\n",
              "      <td>25440</td>\n",
              "      <td>On March 30, 2007, a complaint was registered ...</td>\n",
              "      <td>2007-03-02</td>\n",
              "      <td>1976-10-18</td>\n",
              "      <td>11092</td>\n",
              "      <td>On March , , a complaint was registered with t...</td>\n",
              "      <td>{'neg': 0.18, 'neu': 0.769, 'pos': 0.052, 'com...</td>\n",
              "      <td>-0.9986</td>\n",
              "      <td>0</td>\n",
              "      <td>(6032.5, 14423.0]</td>\n",
              "      <td>3</td>\n",
              "    </tr>\n",
              "    <tr>\n",
              "      <th>1900</th>\n",
              "      <td>29575</td>\n",
              "      <td>On September 13, 2011, a complaint was registe...</td>\n",
              "      <td>2011-09-13</td>\n",
              "      <td>1986-10-13</td>\n",
              "      <td>9101</td>\n",
              "      <td>On September , , a complaint was registered wi...</td>\n",
              "      <td>{'neg': 0.191, 'neu': 0.758, 'pos': 0.051, 'co...</td>\n",
              "      <td>-0.9816</td>\n",
              "      <td>0</td>\n",
              "      <td>(6032.5, 14423.0]</td>\n",
              "      <td>3</td>\n",
              "    </tr>\n",
              "    <tr>\n",
              "      <th>1909</th>\n",
              "      <td>28759</td>\n",
              "      <td>On December 23, 2006, a complaint was register...</td>\n",
              "      <td>2006-12-23</td>\n",
              "      <td>1986-03-31</td>\n",
              "      <td>7572</td>\n",
              "      <td>On December , , a complaint was registered wit...</td>\n",
              "      <td>{'neg': 0.216, 'neu': 0.74, 'pos': 0.044, 'com...</td>\n",
              "      <td>-0.9994</td>\n",
              "      <td>0</td>\n",
              "      <td>(6032.5, 14423.0]</td>\n",
              "      <td>3</td>\n",
              "    </tr>\n",
              "  </tbody>\n",
              "</table>\n",
              "<p>482 rows × 11 columns</p>\n",
              "</div>"
            ],
            "text/plain": [
              "      officer_id  ... bin_code\n",
              "10         25442  ...        3\n",
              "18         31631  ...        3\n",
              "27         19485  ...        3\n",
              "28         29236  ...        3\n",
              "33          3383  ...        3\n",
              "...          ...  ...      ...\n",
              "1873       20418  ...        3\n",
              "1894        7208  ...        3\n",
              "1895       25440  ...        3\n",
              "1900       29575  ...        3\n",
              "1909       28759  ...        3\n",
              "\n",
              "[482 rows x 11 columns]"
            ]
          },
          "metadata": {},
          "execution_count": 68
        }
      ]
    },
    {
      "cell_type": "code",
      "metadata": {
        "colab": {
          "base_uri": "https://localhost:8080/"
        },
        "id": "quE4H5r7qnI1",
        "outputId": "62fce8d3-114d-4244-a888-90c1817efc16"
      },
      "source": [
        "bin_group.compound.count()"
      ],
      "execution_count": 66,
      "outputs": [
        {
          "output_type": "execute_result",
          "data": {
            "text/plain": [
              "bin_code\n",
              "0    482\n",
              "1    481\n",
              "2    481\n",
              "3    482\n",
              "Name: compound, dtype: int64"
            ]
          },
          "metadata": {},
          "execution_count": 66
        }
      ]
    },
    {
      "cell_type": "code",
      "metadata": {
        "colab": {
          "base_uri": "https://localhost:8080/"
        },
        "id": "S-sxAtkJeL2h",
        "outputId": "dab5aabe-8ffa-4e4e-b1d1-96e86b0e26c1"
      },
      "source": [
        "bin_group.compound.mean()"
      ],
      "execution_count": 67,
      "outputs": [
        {
          "output_type": "execute_result",
          "data": {
            "text/plain": [
              "bin_code\n",
              "0   -0.763613\n",
              "1   -0.800647\n",
              "2   -0.781778\n",
              "3   -0.737321\n",
              "Name: compound, dtype: float64"
            ]
          },
          "metadata": {},
          "execution_count": 67
        }
      ]
    },
    {
      "cell_type": "code",
      "metadata": {
        "colab": {
          "base_uri": "https://localhost:8080/"
        },
        "id": "_gTXhyvAucaI",
        "outputId": "9ddc12d9-1aee-4a2c-dc8b-a6965204ba90"
      },
      "source": [
        "bin_group.compound.median()"
      ],
      "execution_count": 69,
      "outputs": [
        {
          "output_type": "execute_result",
          "data": {
            "text/plain": [
              "bin_code\n",
              "0   -0.95205\n",
              "1   -0.95490\n",
              "2   -0.93200\n",
              "3   -0.89410\n",
              "Name: compound, dtype: float64"
            ]
          },
          "metadata": {},
          "execution_count": 69
        }
      ]
    },
    {
      "cell_type": "code",
      "metadata": {
        "colab": {
          "base_uri": "https://localhost:8080/"
        },
        "id": "CSXekWTFyr4f",
        "outputId": "da287880-5359-4b30-fb06-1de80ac2f592"
      },
      "source": [
        "bin_group.compound.std()"
      ],
      "execution_count": 70,
      "outputs": [
        {
          "output_type": "execute_result",
          "data": {
            "text/plain": [
              "bin_code\n",
              "0    0.425798\n",
              "1    0.358609\n",
              "2    0.362523\n",
              "3    0.401559\n",
              "Name: compound, dtype: float64"
            ]
          },
          "metadata": {},
          "execution_count": 70
        }
      ]
    },
    {
      "cell_type": "code",
      "metadata": {
        "id": "sEYaHcDVytvU"
      },
      "source": [
        ""
      ],
      "execution_count": null,
      "outputs": []
    }
  ]
}